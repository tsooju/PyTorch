{
  "nbformat": 4,
  "nbformat_minor": 0,
  "metadata": {
    "colab": {
      "provenance": [],
      "collapsed_sections": []
    },
    "kernelspec": {
      "name": "python3",
      "display_name": "Python 3"
    },
    "language_info": {
      "name": "python"
    },
    "accelerator": "GPU",
    "gpuClass": "standard"
  },
  "cells": [
    {
      "cell_type": "markdown",
      "source": [
        "**PyTorch Tensor Basic Usage**\n",
        "- Create Tensor\n",
        "- Indexing, Joining(합치기), Slicing(일부 추출), \n",
        "- Inintialization\n",
        "- Math Operations"
      ],
      "metadata": {
        "id": "Pii7SLMd9wOX"
      }
    },
    {
      "cell_type": "markdown",
      "source": [
        "**1. Create Tensor**\n",
        "\n",
        "1) random numbers "
      ],
      "metadata": {
        "id": "BCG2A03v-gdY"
      }
    },
    {
      "cell_type": "code",
      "source": [
        "#  새 노트에서 러타임 > GPU 로 다시 지정함. \n",
        "import torch\n",
        "\n",
        "# torch.rand(sizes) ==> 0 ~ 1 사이의 실수값을 랜덤하게 발생함. \n",
        "# sizes : 1차원 갯수 or 2차원 핼렬 갯ㅅ 등으로 지정 \n",
        "# 0 ~ 1 사이의 실수형 숫자를 균등하게 생성\n",
        "x = torch.rand(2, 3)\n",
        "x"
      ],
      "metadata": {
        "colab": {
          "base_uri": "https://localhost:8080/"
        },
        "id": "O1eZJirx-svH",
        "outputId": "da997bfe-aa6d-4c75-ff16-ba65b29377ee"
      },
      "execution_count": null,
      "outputs": [
        {
          "output_type": "execute_result",
          "data": {
            "text/plain": [
              "tensor([[0.0795, 0.4881, 0.0549],\n",
              "        [0.3619, 0.1576, 0.1931]])"
            ]
          },
          "metadata": {},
          "execution_count": 70
        }
      ]
    },
    {
      "cell_type": "code",
      "source": [
        "#  torch.randn(sizes) ==> Z(0, 1)\n",
        "# 평균이 0 이고 표준편차가 1인 가우시안 정규분포를 이용해서 생성\n",
        "x = torch.randn(2, 3)\n",
        "x"
      ],
      "metadata": {
        "colab": {
          "base_uri": "https://localhost:8080/"
        },
        "id": "479z-vqOAFP_",
        "outputId": "5ba1e88c-764f-43a3-a1b6-57722e74320b"
      },
      "execution_count": null,
      "outputs": [
        {
          "output_type": "execute_result",
          "data": {
            "text/plain": [
              "tensor([[ 0.4880, -0.6184, -0.5705],\n",
              "        [ 0.8287,  1.6532,  0.9999]])"
            ]
          },
          "metadata": {},
          "execution_count": 71
        }
      ]
    },
    {
      "cell_type": "code",
      "source": [
        "# torch.randperm(n) ==> permutation of 0 ~ n 사이의 값을 랭덤하게 함\n",
        "x = torch.randperm(5)\n",
        "x"
      ],
      "metadata": {
        "colab": {
          "base_uri": "https://localhost:8080/"
        },
        "id": "kAjGZLzHAqiW",
        "outputId": "85553908-108f-4b77-a3d6-b4e6df1d432e"
      },
      "execution_count": null,
      "outputs": [
        {
          "output_type": "execute_result",
          "data": {
            "text/plain": [
              "tensor([0, 3, 2, 4, 1])"
            ]
          },
          "metadata": {},
          "execution_count": 72
        }
      ]
    },
    {
      "cell_type": "markdown",
      "source": [
        "**random 값을 가지는 tensor 생성시키는 함수들**\n",
        "\n",
        "1. torch.rand() : 0 ~ 1 사이의 숫자를 균등하게 생성\n",
        "2. torch.rand_like() : 사이즈를 튜플로 입력하지 않고\n",
        "  기존의 텐서와 같은 구조를 만들때 사용\n",
        "3. torch.randn() : 평균이 0이고 표쥰편차가 1인 가우시안 정규분호를 이용해 값 생성\n",
        "\n",
        "4. torch.randn_like() : 사이즈를 튜플로 정하기 않고 \n",
        "  기존의 텐서를 이용함\n",
        "\n",
        "5. torch.randint() : 주어진 범위 내의 정수를 균등하게 생성. \n",
        "자료형은  torch.float32\n",
        "\n",
        "6. torch.randint_likt() \n",
        "7. torch.randperm() : 주어진 범위 내에 정수를 랜덤하게 생성\n"
      ],
      "metadata": {
        "id": "RyQ3TrjCBGcH"
      }
    },
    {
      "cell_type": "markdown",
      "source": [
        "**2) zeros, ones, arange**"
      ],
      "metadata": {
        "id": "hROg0QLmCczP"
      }
    },
    {
      "cell_type": "code",
      "source": [
        "# torch.zeros(2, 3) ==> [[0,0,0], [0,0,0]]\n",
        "x = torch.zeros(2, 3)\n",
        "x"
      ],
      "metadata": {
        "colab": {
          "base_uri": "https://localhost:8080/"
        },
        "id": "EkIAB_EACjZu",
        "outputId": "0a8d2f6d-bbf5-415a-d218-c0fccb2b7ec4"
      },
      "execution_count": null,
      "outputs": [
        {
          "output_type": "execute_result",
          "data": {
            "text/plain": [
              "tensor([[0., 0., 0.],\n",
              "        [0., 0., 0.]])"
            ]
          },
          "metadata": {},
          "execution_count": 73
        }
      ]
    },
    {
      "cell_type": "code",
      "source": [
        "# torch.ones(2, 3) ==> [[1,1,1], [1,1,1,]]\n",
        "x = torch.ones(2, 3)\n",
        "x"
      ],
      "metadata": {
        "colab": {
          "base_uri": "https://localhost:8080/"
        },
        "id": "igv5HIQ6C7V-",
        "outputId": "5286c071-7837-4faf-acb8-8fd48f490fd1"
      },
      "execution_count": null,
      "outputs": [
        {
          "output_type": "execute_result",
          "data": {
            "text/plain": [
              "tensor([[1., 1., 1.],\n",
              "        [1., 1., 1.]])"
            ]
          },
          "metadata": {},
          "execution_count": 74
        }
      ]
    },
    {
      "cell_type": "code",
      "source": [
        "# torch.arange(start, end, step=1) ==> step : 값의 간격\n",
        "x = torch.arange(0,3, step=0.5)\n",
        "x"
      ],
      "metadata": {
        "colab": {
          "base_uri": "https://localhost:8080/"
        },
        "id": "n1ZImL30DLxm",
        "outputId": "6552de84-0cc9-42f0-b941-ffde9b283611"
      },
      "execution_count": null,
      "outputs": [
        {
          "output_type": "execute_result",
          "data": {
            "text/plain": [
              "tensor([0.0000, 0.5000, 1.0000, 1.5000, 2.0000, 2.5000])"
            ]
          },
          "metadata": {},
          "execution_count": 75
        }
      ]
    },
    {
      "cell_type": "markdown",
      "source": [
        "**3) Tensor Data Type**"
      ],
      "metadata": {
        "id": "MjKRgpZbGFCF"
      }
    },
    {
      "cell_type": "code",
      "source": [
        "# torch.FloatTensor(size | list)\n",
        "x = torch.FloatTensor(2, 3)\n",
        "x"
      ],
      "metadata": {
        "colab": {
          "base_uri": "https://localhost:8080/"
        },
        "id": "MlxyWdhhGPNF",
        "outputId": "5b0d06f5-236b-4027-86e4-25cbbacea31b"
      },
      "execution_count": null,
      "outputs": [
        {
          "output_type": "execute_result",
          "data": {
            "text/plain": [
              "tensor([[6.3352e-35, 0.0000e+00, 1.0000e+00],\n",
              "        [1.5000e+00, 2.0000e+00, 2.5000e+00]])"
            ]
          },
          "metadata": {},
          "execution_count": 76
        }
      ]
    },
    {
      "cell_type": "code",
      "source": [
        "x = torch.FloatTensor([12, 35])\n",
        "x"
      ],
      "metadata": {
        "colab": {
          "base_uri": "https://localhost:8080/"
        },
        "id": "B-pNUMgiGjfl",
        "outputId": "e428a25e-86c0-43e6-92a0-bfe1e2cdd310"
      },
      "execution_count": null,
      "outputs": [
        {
          "output_type": "execute_result",
          "data": {
            "text/plain": [
              "tensor([12., 35.])"
            ]
          },
          "metadata": {},
          "execution_count": 77
        }
      ]
    },
    {
      "cell_type": "code",
      "source": [
        "# tensor.type_as(tensor_type)\n",
        "# 기존 텐서의 값의 자료형을 바꿀 때 사용\n",
        "x = x.type_as(torch.IntTensor())\n",
        "x"
      ],
      "metadata": {
        "colab": {
          "base_uri": "https://localhost:8080/"
        },
        "id": "XrCCKmANGwF1",
        "outputId": "884e93a7-f7e4-418a-f255-9f2be87c2fa5"
      },
      "execution_count": null,
      "outputs": [
        {
          "output_type": "execute_result",
          "data": {
            "text/plain": [
              "tensor([12, 35], dtype=torch.int32)"
            ]
          },
          "metadata": {},
          "execution_count": 78
        }
      ]
    },
    {
      "cell_type": "markdown",
      "source": [
        "**4) Numpy to Tensor, Tensor to Numpy**"
      ],
      "metadata": {
        "id": "Xu_WB17THNt0"
      }
    },
    {
      "cell_type": "code",
      "source": [
        "import numpy as np\n",
        "\n",
        "# torch.from_numpy(ndarray) ==> tensor로 변경해주는 함수\n",
        "x1 = np.ndarray(shape=(2, 3), dtype=int, buffer=np.array([1,2,3,4,5,6]))\n",
        "print(x1)\n",
        "x2 = torch.from_numpy(x1)\n",
        "x2"
      ],
      "metadata": {
        "colab": {
          "base_uri": "https://localhost:8080/"
        },
        "id": "Gq9eb4b9HVEt",
        "outputId": "2f824dd9-a78b-4f8c-9abb-cadb8d4dace6"
      },
      "execution_count": null,
      "outputs": [
        {
          "output_type": "stream",
          "name": "stdout",
          "text": [
            "[[1 2 3]\n",
            " [4 5 6]]\n"
          ]
        },
        {
          "output_type": "execute_result",
          "data": {
            "text/plain": [
              "tensor([[1, 2, 3],\n",
              "        [4, 5, 6]])"
            ]
          },
          "metadata": {},
          "execution_count": 79
        }
      ]
    },
    {
      "cell_type": "code",
      "source": [
        "# torch.numpy() ==> ndarray\n",
        "x3 = x2.numpy()\n",
        "x3"
      ],
      "metadata": {
        "colab": {
          "base_uri": "https://localhost:8080/"
        },
        "id": "MCIQ4I63IUBV",
        "outputId": "1af84c0c-470b-4d1c-8b31-3cd37914db57"
      },
      "execution_count": null,
      "outputs": [
        {
          "output_type": "execute_result",
          "data": {
            "text/plain": [
              "array([[1, 2, 3],\n",
              "       [4, 5, 6]])"
            ]
          },
          "metadata": {},
          "execution_count": 80
        }
      ]
    },
    {
      "cell_type": "markdown",
      "source": [
        "**5) Tensor on CPU & GPU**"
      ],
      "metadata": {
        "id": "_nQbmxXhIt_W"
      }
    },
    {
      "cell_type": "code",
      "source": [
        "x = torch.FloatTensor([[1,2,3], [4,5,6]])\n",
        "x\n",
        "\n",
        "x_gpu = x.cuda()\n",
        "x_gpu\n",
        "\n",
        "x_cpu = x_gpu.cpu()\n",
        "x_cpu"
      ],
      "metadata": {
        "colab": {
          "base_uri": "https://localhost:8080/"
        },
        "id": "_J-1BIKkI0mt",
        "outputId": "892c46bd-5c1a-456a-f8b3-8fb4dffecb38"
      },
      "execution_count": null,
      "outputs": [
        {
          "output_type": "execute_result",
          "data": {
            "text/plain": [
              "tensor([[1., 2., 3.],\n",
              "        [4., 5., 6.]])"
            ]
          },
          "metadata": {},
          "execution_count": 81
        }
      ]
    },
    {
      "cell_type": "markdown",
      "source": [
        "**6) Tensor Size**"
      ],
      "metadata": {
        "id": "rghYWH9wJp_9"
      }
    },
    {
      "cell_type": "code",
      "source": [
        "# tensor객체.size() ==> 인덱스 값\n",
        "x = torch.FloatTensor(10, 12, 3, 3) # start, end-1, row, col\n",
        "x\n",
        "\n",
        "x.size() # torch.Size([10, 12, 3, 3])\n",
        "x.size()[:] # torch.Size([10, 12, 3, 3])"
      ],
      "metadata": {
        "colab": {
          "base_uri": "https://localhost:8080/"
        },
        "id": "9HPTr-hvJsgV",
        "outputId": "355ba295-c127-4918-cb40-ebd70f236257"
      },
      "execution_count": null,
      "outputs": [
        {
          "output_type": "execute_result",
          "data": {
            "text/plain": [
              "torch.Size([10, 12, 3, 3])"
            ]
          },
          "metadata": {},
          "execution_count": 82
        }
      ]
    },
    {
      "cell_type": "markdown",
      "source": [
        "**2. Indexing, Slicing, Joining**\n",
        "\n",
        "1) Indexing"
      ],
      "metadata": {
        "id": "AZIKT8dVKyTU"
      }
    },
    {
      "cell_type": "code",
      "source": [
        "# torch.index_select(input, dim, index)\n",
        "# dim == 행값, index == 열에 대한 인덱싱\n",
        "x = torch.rand(4, 3)\n",
        "out = torch.index_select(x, 0, torch.LongTensor([0, 3]))\n",
        "\n",
        "x, out"
      ],
      "metadata": {
        "colab": {
          "base_uri": "https://localhost:8080/"
        },
        "id": "PYvUEIeUK450",
        "outputId": "dae424b9-4f85-4316-af2a-bda18e405746"
      },
      "execution_count": null,
      "outputs": [
        {
          "output_type": "execute_result",
          "data": {
            "text/plain": [
              "(tensor([[0.8537, 0.1433, 0.1228],\n",
              "         [0.4021, 0.4451, 0.8234],\n",
              "         [0.0916, 0.1219, 0.6607],\n",
              "         [0.5449, 0.1915, 0.2527]]), tensor([[0.8537, 0.1433, 0.1228],\n",
              "         [0.5449, 0.1915, 0.2527]]))"
            ]
          },
          "metadata": {},
          "execution_count": 83
        }
      ]
    },
    {
      "cell_type": "code",
      "source": [
        "# 파이썬의 인덱싱 사용 가능\n",
        "x[:, 0] # 모든 행의 0열값들\n",
        "x[0, :] # 0행의 모든 값\n",
        "x[0:2, 0:2] # 0~1행, 0~1열까지의 값들"
      ],
      "metadata": {
        "colab": {
          "base_uri": "https://localhost:8080/"
        },
        "id": "e_lkVnYMMF1M",
        "outputId": "7c382d58-6aa5-4bda-a0e9-7cb68b246d16"
      },
      "execution_count": null,
      "outputs": [
        {
          "output_type": "execute_result",
          "data": {
            "text/plain": [
              "tensor([[0.8537, 0.1433],\n",
              "        [0.4021, 0.4451]])"
            ]
          },
          "metadata": {},
          "execution_count": 84
        }
      ]
    },
    {
      "cell_type": "code",
      "source": [
        "# torch.masked_select(input, mask)\n",
        "x = torch.randn(2, 3)\n",
        "x\n",
        "mask = torch.ByteTensor([[0,0,1], [0,1,0]])\n",
        "out = torch.masked_select(x, mask)\n",
        "out, x, mask"
      ],
      "metadata": {
        "colab": {
          "base_uri": "https://localhost:8080/"
        },
        "id": "2sayzvW6NIDM",
        "outputId": "d9ebdb67-1feb-44f0-c760-775d98571866"
      },
      "execution_count": null,
      "outputs": [
        {
          "output_type": "stream",
          "name": "stderr",
          "text": [
            "/usr/local/lib/python3.7/dist-packages/ipykernel_launcher.py:5: UserWarning: masked_select received a mask with dtype torch.uint8, this behavior is now deprecated,please use a mask with dtype torch.bool instead. (Triggered internally at  ../aten/src/ATen/native/TensorAdvancedIndexing.cpp:1664.)\n",
            "  \"\"\"\n"
          ]
        },
        {
          "output_type": "execute_result",
          "data": {
            "text/plain": [
              "(tensor([ 0.1902, -0.7319]), tensor([[ 0.9180, -1.5090,  0.1902],\n",
              "         [-0.7767, -0.7319, -0.8323]]), tensor([[0, 0, 1],\n",
              "         [0, 1, 0]], dtype=torch.uint8))"
            ]
          },
          "metadata": {},
          "execution_count": 85
        }
      ]
    },
    {
      "cell_type": "markdown",
      "source": [
        "**2) Joining**"
      ],
      "metadata": {
        "id": "C443twaaOERU"
      }
    },
    {
      "cell_type": "code",
      "source": [
        "# torch.cat(seq, dim=0)\n",
        "\n",
        "x = torch.FloatTensor([[1,2,3], [4,5,6]])\n",
        "y = torch.FloatTensor([[-1,-2,-3], [-4,-5,-6]])\n",
        "\n",
        "z1 = torch.cat([x, y], dim= 0) # dim=0 이면 아래로 합쳐짐\n",
        "z2 = torch.cat([x, y], dim=1) # dim=1 이면 오른쪽에 합쳐짐\n",
        "\n",
        "x, y, z1, z2"
      ],
      "metadata": {
        "colab": {
          "base_uri": "https://localhost:8080/"
        },
        "id": "AiDVPKX0OG0s",
        "outputId": "722ffe74-2843-4bb0-d264-816a8413090e"
      },
      "execution_count": null,
      "outputs": [
        {
          "output_type": "execute_result",
          "data": {
            "text/plain": [
              "(tensor([[1., 2., 3.],\n",
              "         [4., 5., 6.]]), tensor([[-1., -2., -3.],\n",
              "         [-4., -5., -6.]]), tensor([[ 1.,  2.,  3.],\n",
              "         [ 4.,  5.,  6.],\n",
              "         [-1., -2., -3.],\n",
              "         [-4., -5., -6.]]), tensor([[ 1.,  2.,  3., -1., -2., -3.],\n",
              "         [ 4.,  5.,  6., -4., -5., -6.]]))"
            ]
          },
          "metadata": {},
          "execution_count": 86
        }
      ]
    },
    {
      "cell_type": "code",
      "source": [
        "# torch.stack(sequence, dim=0) ==> 새로운 차원으로 추가\n",
        "x_stack = torch.stack([x,x,x,x], dim=0) # (4, 2, 3) 모양\n",
        "x_stack"
      ],
      "metadata": {
        "colab": {
          "base_uri": "https://localhost:8080/"
        },
        "id": "OR0D5nf5PN4z",
        "outputId": "3abc941f-437c-4b7c-d706-3abbfc870fd2"
      },
      "execution_count": null,
      "outputs": [
        {
          "output_type": "execute_result",
          "data": {
            "text/plain": [
              "tensor([[[1., 2., 3.],\n",
              "         [4., 5., 6.]],\n",
              "\n",
              "        [[1., 2., 3.],\n",
              "         [4., 5., 6.]],\n",
              "\n",
              "        [[1., 2., 3.],\n",
              "         [4., 5., 6.]],\n",
              "\n",
              "        [[1., 2., 3.],\n",
              "         [4., 5., 6.]]])"
            ]
          },
          "metadata": {},
          "execution_count": 87
        }
      ]
    },
    {
      "cell_type": "markdown",
      "source": [
        "**3) Slicing**\n"
      ],
      "metadata": {
        "id": "Mh4j84d3fAdN"
      }
    },
    {
      "cell_type": "code",
      "source": [
        "# torch.chunk(tensor, chunk, dim=0)\n",
        "x_1, x_2 = torch.chunk(z1, 2, dim=0) # dim=0 이면 행을 2개로 분할\n",
        "y_1, y_2, y_3 = torch.chunk(z1, 3, dim=1) # dim=1 이면 열을 3개로 분할\n",
        "\n",
        "z1, x_1, x_2, y_1, y_2, y_3"
      ],
      "metadata": {
        "colab": {
          "base_uri": "https://localhost:8080/"
        },
        "id": "rgYfK-VKfdB_",
        "outputId": "6ecef822-8db6-45c1-9214-962cab075fbb"
      },
      "execution_count": null,
      "outputs": [
        {
          "output_type": "execute_result",
          "data": {
            "text/plain": [
              "(tensor([[ 1.,  2.,  3.],\n",
              "         [ 4.,  5.,  6.],\n",
              "         [-1., -2., -3.],\n",
              "         [-4., -5., -6.]]), tensor([[1., 2., 3.],\n",
              "         [4., 5., 6.]]), tensor([[-1., -2., -3.],\n",
              "         [-4., -5., -6.]]), tensor([[ 1.],\n",
              "         [ 4.],\n",
              "         [-1.],\n",
              "         [-4.]]), tensor([[ 2.],\n",
              "         [ 5.],\n",
              "         [-2.],\n",
              "         [-5.]]), tensor([[ 3.],\n",
              "         [ 6.],\n",
              "         [-3.],\n",
              "         [-6.]]))"
            ]
          },
          "metadata": {},
          "execution_count": 88
        }
      ]
    },
    {
      "cell_type": "code",
      "source": [
        "# torch.split(tensor, split_size, dim=0)\n",
        "x1, x2 = torch.split(z1, 2, dim=0)\n",
        "y1 = torch.split(z1, 2, dim=1) # 3개 열을 2개로 분리한 경우\n",
        "\n",
        "z1, x1, x2, y1"
      ],
      "metadata": {
        "colab": {
          "base_uri": "https://localhost:8080/"
        },
        "id": "BWXgGiUkg4yu",
        "outputId": "ce8faeab-e9b0-4682-82f5-e922b83fa5ce"
      },
      "execution_count": null,
      "outputs": [
        {
          "output_type": "execute_result",
          "data": {
            "text/plain": [
              "(tensor([[ 1.,  2.,  3.],\n",
              "         [ 4.,  5.,  6.],\n",
              "         [-1., -2., -3.],\n",
              "         [-4., -5., -6.]]), tensor([[1., 2., 3.],\n",
              "         [4., 5., 6.]]), tensor([[-1., -2., -3.],\n",
              "         [-4., -5., -6.]]), (tensor([[ 1.,  2.],\n",
              "          [ 4.,  5.],\n",
              "          [-1., -2.],\n",
              "          [-4., -5.]]), tensor([[ 3.],\n",
              "          [ 6.],\n",
              "          [-3.],\n",
              "          [-6.]])))"
            ]
          },
          "metadata": {},
          "execution_count": 89
        }
      ]
    },
    {
      "cell_type": "markdown",
      "source": [
        "**4) squeezing**"
      ],
      "metadata": {
        "id": "sEW_McEAhrP4"
      }
    },
    {
      "cell_type": "code",
      "source": [
        "# torch.squeeze(input, dim=None) ==> 숫자가 1인 차원을 제거\n",
        "x1 = torch.FloatTensor(10, 1, 3, 14)\n",
        "# 차원의(dimention)의 개념\n",
        "# 10: batch_size(데이터 한 묶음당 들어있는 데이터(x,y)쌍 갯수)\n",
        "# 1 : channel size\n",
        "# 3 : width image size\n",
        "# 14 : height image size \n",
        "\n",
        "x2 = torch.squeeze(x1)\n",
        "x1.size(), x2.size()"
      ],
      "metadata": {
        "colab": {
          "base_uri": "https://localhost:8080/"
        },
        "id": "3iEyJZDRhuxm",
        "outputId": "107e3771-983c-4cf7-ea3b-05bcd4ebedb5"
      },
      "execution_count": null,
      "outputs": [
        {
          "output_type": "execute_result",
          "data": {
            "text/plain": [
              "(torch.Size([10, 1, 3, 14]), torch.Size([10, 3, 14]))"
            ]
          },
          "metadata": {},
          "execution_count": 90
        }
      ]
    },
    {
      "cell_type": "code",
      "source": [
        "# torch.unsqueeze(input, dim=None) ==> 숫자가 1인 차원을 추가\n",
        "x1 = torch.FloatTensor(10, 3, 4)\n",
        "x2 = torch.unsqueeze(x1, dim=0)\n",
        "\n",
        "x1.size(), x2.size()"
      ],
      "metadata": {
        "colab": {
          "base_uri": "https://localhost:8080/"
        },
        "id": "Q5OH-ChYjR0G",
        "outputId": "d94ef079-66e6-40f6-cb3f-4c9c2d44d686"
      },
      "execution_count": null,
      "outputs": [
        {
          "output_type": "execute_result",
          "data": {
            "text/plain": [
              "(torch.Size([10, 3, 4]), torch.Size([1, 10, 3, 4]))"
            ]
          },
          "metadata": {},
          "execution_count": 91
        }
      ]
    },
    {
      "cell_type": "markdown",
      "source": [
        "**3. Inintialization**"
      ],
      "metadata": {
        "id": "OpLOUjgWkAW4"
      }
    },
    {
      "cell_type": "code",
      "source": [
        "import torch.nn.init as init\n",
        "x1 = init.uniform(torch.FloatTensor(3,4), a=0, b=9)\n",
        "# a에서 b까지의 값으로 초기화\n",
        "\n",
        "x2 = init.normal(torch.FloatTensor(3,4), std=0.2) # 표준편차 0.2 적용 초기화\n",
        "x3 = init.constant(torch.FloatTensor(3,4), 3.145) #지정된 상수 값으로 초기화\n",
        "\n",
        "x1, x2, x3"
      ],
      "metadata": {
        "colab": {
          "base_uri": "https://localhost:8080/"
        },
        "id": "6Gp7vB6fkEbC",
        "outputId": "53f8cd5b-1d3f-4751-f885-b9a9057b77fe"
      },
      "execution_count": null,
      "outputs": [
        {
          "output_type": "stream",
          "name": "stderr",
          "text": [
            "/usr/local/lib/python3.7/dist-packages/ipykernel_launcher.py:2: UserWarning: nn.init.uniform is now deprecated in favor of nn.init.uniform_.\n",
            "  \n",
            "/usr/local/lib/python3.7/dist-packages/ipykernel_launcher.py:5: UserWarning: nn.init.normal is now deprecated in favor of nn.init.normal_.\n",
            "  \"\"\"\n",
            "/usr/local/lib/python3.7/dist-packages/ipykernel_launcher.py:6: UserWarning: nn.init.constant is now deprecated in favor of nn.init.constant_.\n",
            "  \n"
          ]
        },
        {
          "output_type": "execute_result",
          "data": {
            "text/plain": [
              "(tensor([[0.5808, 7.1686, 7.7777, 8.7113],\n",
              "         [0.6872, 0.2670, 6.5621, 0.6694],\n",
              "         [6.0745, 5.2964, 5.4839, 7.7779]]),\n",
              " tensor([[ 0.0490,  0.1572, -0.1638,  0.3697],\n",
              "         [-0.0674,  0.3451,  0.2131,  0.1998],\n",
              "         [-0.0361,  0.0773,  0.0906, -0.1816]]),\n",
              " tensor([[3.1450, 3.1450, 3.1450, 3.1450],\n",
              "         [3.1450, 3.1450, 3.1450, 3.1450],\n",
              "         [3.1450, 3.1450, 3.1450, 3.1450]]))"
            ]
          },
          "metadata": {},
          "execution_count": 92
        }
      ]
    },
    {
      "cell_type": "markdown",
      "source": [
        "**4. Math Operations**\n",
        "\n",
        "1) Arithmetic operations"
      ],
      "metadata": {
        "id": "l_a0q0X0lxvd"
      }
    },
    {
      "cell_type": "code",
      "source": [
        "# torch.add()\n",
        "x1 = torch.FloatTensor([[1,2,3,], [4,5,6,]])\n",
        "x2 = torch.FloatTensor([[1,2,3,], [4,5,6,]])\n",
        "\n",
        "x_add = torch.add(x1, x2)\n",
        "\n",
        "x_add, x1, x2, x1+x2, x1-x2"
      ],
      "metadata": {
        "colab": {
          "base_uri": "https://localhost:8080/"
        },
        "id": "0AWGkwOTl5wN",
        "outputId": "66a97b77-f1d6-4773-afcc-e8185906fa48"
      },
      "execution_count": null,
      "outputs": [
        {
          "output_type": "execute_result",
          "data": {
            "text/plain": [
              "(tensor([[ 2.,  4.,  6.],\n",
              "         [ 8., 10., 12.]]), tensor([[1., 2., 3.],\n",
              "         [4., 5., 6.]]), tensor([[1., 2., 3.],\n",
              "         [4., 5., 6.]]), tensor([[ 2.,  4.,  6.],\n",
              "         [ 8., 10., 12.]]), tensor([[0., 0., 0.],\n",
              "         [0., 0., 0.]]))"
            ]
          },
          "metadata": {},
          "execution_count": 93
        }
      ]
    },
    {
      "cell_type": "code",
      "source": [
        "# torch.add() : broadcastion (숫자와의 연산)\n",
        "x3 = torch.add(x1, 10) # 모든 행열에 10을 더한다.\n",
        "\n",
        "x3, x1+10, x1-10"
      ],
      "metadata": {
        "colab": {
          "base_uri": "https://localhost:8080/"
        },
        "id": "XlYjsqTWm7FP",
        "outputId": "80b730c4-0ffe-4e08-aba4-297d526d2be5"
      },
      "execution_count": null,
      "outputs": [
        {
          "output_type": "execute_result",
          "data": {
            "text/plain": [
              "(tensor([[11., 12., 13.],\n",
              "         [14., 15., 16.]]), tensor([[11., 12., 13.],\n",
              "         [14., 15., 16.]]), tensor([[-9., -8., -7.],\n",
              "         [-6., -5., -4.]]))"
            ]
          },
          "metadata": {},
          "execution_count": 94
        }
      ]
    },
    {
      "cell_type": "code",
      "source": [
        "# torch.mul() 곱하기\n",
        "x3 = torch.mul(x1, x2)\n",
        "\n",
        "x3, x1*x2"
      ],
      "metadata": {
        "colab": {
          "base_uri": "https://localhost:8080/"
        },
        "id": "gGRf2PETnwVk",
        "outputId": "7202aa1f-6c7f-4826-f754-f034f06fb065"
      },
      "execution_count": null,
      "outputs": [
        {
          "output_type": "execute_result",
          "data": {
            "text/plain": [
              "(tensor([[ 1.,  4.,  9.],\n",
              "         [16., 25., 36.]]), tensor([[ 1.,  4.,  9.],\n",
              "         [16., 25., 36.]]))"
            ]
          },
          "metadata": {},
          "execution_count": 95
        }
      ]
    },
    {
      "cell_type": "code",
      "source": [
        "x3 = torch.mul(x1, 10)\n",
        "x3, x1*10"
      ],
      "metadata": {
        "colab": {
          "base_uri": "https://localhost:8080/"
        },
        "id": "w4KHsDWGn84F",
        "outputId": "fa8f3a19-342f-458e-9fda-86c6212981d8"
      },
      "execution_count": null,
      "outputs": [
        {
          "output_type": "execute_result",
          "data": {
            "text/plain": [
              "(tensor([[10., 20., 30.],\n",
              "         [40., 50., 60.]]), tensor([[10., 20., 30.],\n",
              "         [40., 50., 60.]]))"
            ]
          },
          "metadata": {},
          "execution_count": 96
        }
      ]
    },
    {
      "cell_type": "code",
      "source": [
        "# torch.div() 나누기한 몫\n",
        "x3 = torch.div(x1, 5)\n",
        "\n",
        "x1, x3, x1/5"
      ],
      "metadata": {
        "colab": {
          "base_uri": "https://localhost:8080/"
        },
        "id": "cBzFBXU4oHqb",
        "outputId": "e00873e4-7c45-409f-bdbe-1663679c5528"
      },
      "execution_count": null,
      "outputs": [
        {
          "output_type": "execute_result",
          "data": {
            "text/plain": [
              "(tensor([[1., 2., 3.],\n",
              "         [4., 5., 6.]]), tensor([[0.2000, 0.4000, 0.6000],\n",
              "         [0.8000, 1.0000, 1.2000]]), tensor([[0.2000, 0.4000, 0.6000],\n",
              "         [0.8000, 1.0000, 1.2000]]))"
            ]
          },
          "metadata": {},
          "execution_count": 97
        }
      ]
    },
    {
      "cell_type": "markdown",
      "source": [
        "**2) Other Math Operations**"
      ],
      "metadata": {
        "id": "OmyXZsjsolh8"
      }
    },
    {
      "cell_type": "code",
      "source": [
        "# torch.pow(input, exponent)\n",
        "x1 = torch.FloatTensor(3, 4)\n",
        "\n",
        "x1, torch.pow(x1, 2), x1**2 "
      ],
      "metadata": {
        "colab": {
          "base_uri": "https://localhost:8080/"
        },
        "id": "T9OeAg6goqD6",
        "outputId": "62065be2-7f2d-4775-b2a6-0d028efdf2e1"
      },
      "execution_count": null,
      "outputs": [
        {
          "output_type": "execute_result",
          "data": {
            "text/plain": [
              "(tensor([[9.8410e+10, 0.0000e+00, 6.0000e-01, 8.0000e-01],\n",
              "         [1.0000e+00, 1.2000e+00, 0.0000e+00, 2.3750e+00],\n",
              "         [0.0000e+00, 2.3125e+00, 0.0000e+00, 2.2500e+00]]),\n",
              " tensor([[9.6846e+21, 0.0000e+00, 3.6000e-01, 6.4000e-01],\n",
              "         [1.0000e+00, 1.4400e+00, 0.0000e+00, 5.6406e+00],\n",
              "         [0.0000e+00, 5.3477e+00, 0.0000e+00, 5.0625e+00]]),\n",
              " tensor([[9.6846e+21, 0.0000e+00, 3.6000e-01, 6.4000e-01],\n",
              "         [1.0000e+00, 1.4400e+00, 0.0000e+00, 5.6406e+00],\n",
              "         [0.0000e+00, 5.3477e+00, 0.0000e+00, 5.0625e+00]]))"
            ]
          },
          "metadata": {},
          "execution_count": 98
        }
      ]
    },
    {
      "cell_type": "code",
      "source": [
        "# torch.exp(tensor, out=None) : exponential 연산\n",
        "# y = e의 x 제곱 구할 때 사용\n",
        "x1 = torch.FloatTensor(3,4)\n",
        "out = torch.exp(x1)\n",
        "\n",
        "x1, out"
      ],
      "metadata": {
        "colab": {
          "base_uri": "https://localhost:8080/"
        },
        "id": "3lQhW30LpO7L",
        "outputId": "3e80a5c8-ea91-4e8b-9588-c2a5426c503d"
      },
      "execution_count": null,
      "outputs": [
        {
          "output_type": "execute_result",
          "data": {
            "text/plain": [
              "(tensor([[9.8407e+10, 0.0000e+00, 3.6000e-01, 6.4000e-01],\n",
              "         [1.0000e+00, 1.4400e+00, 0.0000e+00, 5.6406e+00],\n",
              "         [0.0000e+00, 5.3477e+00, 0.0000e+00, 5.0625e+00]]),\n",
              " tensor([[     inf,   1.0000,   1.4333,   1.8965],\n",
              "         [  2.7183,   4.2207,   1.0000, 281.6387],\n",
              "         [  1.0000, 210.1153,   1.0000, 157.9850]]))"
            ]
          },
          "metadata": {},
          "execution_count": 99
        }
      ]
    },
    {
      "cell_type": "code",
      "source": [
        "# torch.log(input, out=None) : 자연로그 계산\n",
        "out = torch.log(x1)\n",
        "\n",
        "x1, out"
      ],
      "metadata": {
        "colab": {
          "base_uri": "https://localhost:8080/"
        },
        "id": "zh7A7quLqwyr",
        "outputId": "51cc3a03-6f68-4fb6-e407-412b38792510"
      },
      "execution_count": null,
      "outputs": [
        {
          "output_type": "execute_result",
          "data": {
            "text/plain": [
              "(tensor([[9.8407e+10, 0.0000e+00, 3.6000e-01, 6.4000e-01],\n",
              "         [1.0000e+00, 1.4400e+00, 0.0000e+00, 5.6406e+00],\n",
              "         [0.0000e+00, 5.3477e+00, 0.0000e+00, 5.0625e+00]]),\n",
              " tensor([[25.3124,    -inf, -1.0217, -0.4463],\n",
              "         [ 0.0000,  0.3646,    -inf,  1.7300],\n",
              "         [   -inf,  1.6767,    -inf,  1.6219]]))"
            ]
          },
          "metadata": {},
          "execution_count": 100
        }
      ]
    },
    {
      "cell_type": "markdown",
      "source": [
        "**3) Matrix operations**"
      ],
      "metadata": {
        "id": "WRLkJTe_rK_S"
      }
    },
    {
      "cell_type": "code",
      "source": [
        "# torch.mm(mat1, mat2) ==> matrix multiplication (행렬곱)\n",
        "x1 = torch.FloatTensor(3,4)\n",
        "x2 = torch.FloatTensor(4,5)\n",
        "out = torch.mm(x1, x2)\n",
        "\n",
        "x1, x2, out\n"
      ],
      "metadata": {
        "colab": {
          "base_uri": "https://localhost:8080/"
        },
        "id": "1MgFej5JrQIi",
        "outputId": "a098b82a-16a0-4057-dba5-5bd1201ec9aa"
      },
      "execution_count": null,
      "outputs": [
        {
          "output_type": "execute_result",
          "data": {
            "text/plain": [
              "(tensor([[9.8405e+10, 0.0000e+00, 1.0217e+00, 4.4629e-01],\n",
              "         [0.0000e+00, 3.6464e-01,        inf, 1.7300e+00],\n",
              "         [       inf, 1.6767e+00,        inf, 1.6219e+00]]),\n",
              " tensor([[8.7697e+10, 0.0000e+00, 2.8372e-39, 1.3445e-39, 9.4367e-38],\n",
              "         [3.5733e-43, 1.4125e-36, 7.3361e-39, 4.3506e-41, 1.8609e-42],\n",
              "         [7.5232e-37, 1.4615e-39, 9.5840e-38, 0.0000e+00, 2.8358e-39],\n",
              "         [1.3445e-39, 9.4367e-38, 3.5733e-43, 1.4125e-36, 7.3361e-39]]),\n",
              " tensor([[8.6298e+21, 4.3608e-38, 2.7920e-28, 1.3231e-28, 9.2862e-27],\n",
              "         [       inf,        inf,        inf,        nan,        inf],\n",
              "         [       inf,        nan,        inf,        nan,        inf]]))"
            ]
          },
          "metadata": {},
          "execution_count": 101
        }
      ]
    },
    {
      "cell_type": "code",
      "source": [
        "# torch.bmm(batch1, batch2) ==> batch 행렬곱 연산\n",
        "# 맨 앞의 batch 는 차원을 유지하면서 뒤 요소들의 행렬곱 연산함\n",
        "\n",
        "x1 = torch.FloatTensor(10, 3, 4)\n",
        "x2 = torch.FloatTensor(10, 4, 5)\n",
        "\n",
        "out = torch.bmm(x1, x2)\n",
        "\n",
        "out.size()"
      ],
      "metadata": {
        "colab": {
          "base_uri": "https://localhost:8080/"
        },
        "id": "bqXr45xAsDz6",
        "outputId": "f7817066-ffdb-4e7f-951f-bdf0f422c5d3"
      },
      "execution_count": null,
      "outputs": [
        {
          "output_type": "execute_result",
          "data": {
            "text/plain": [
              "torch.Size([10, 3, 5])"
            ]
          },
          "metadata": {},
          "execution_count": 102
        }
      ]
    },
    {
      "cell_type": "code",
      "source": [
        "# torch.dot(tensor1, tensor2) : 백터의 내적을 구함\n",
        "x1 = torch.FloatTensor([1,2,3,4])\n",
        "x2 = torch.FloatTensor([2,3,4,5])\n",
        "\n",
        "torch.dot(x1, x2)"
      ],
      "metadata": {
        "colab": {
          "base_uri": "https://localhost:8080/"
        },
        "id": "AmzZU6p4swpD",
        "outputId": "0af27821-3877-4eaa-b63f-44480d29ba30"
      },
      "execution_count": null,
      "outputs": [
        {
          "output_type": "execute_result",
          "data": {
            "text/plain": [
              "tensor(40.)"
            ]
          },
          "metadata": {},
          "execution_count": 103
        }
      ]
    },
    {
      "cell_type": "code",
      "source": [
        "# torch.t(matrix) : transposed matrix (텐서의 전치연산)\n",
        "# 행과 열을 서로 바꿈\n",
        "\n",
        "x1 = torch.FloatTensor(3,4)\n",
        "\n",
        "x1, x1.t()"
      ],
      "metadata": {
        "colab": {
          "base_uri": "https://localhost:8080/"
        },
        "id": "mBHunl0BtVr6",
        "outputId": "816eafbc-c9b9-4c9b-9029-39392a31be33"
      },
      "execution_count": null,
      "outputs": [
        {
          "output_type": "execute_result",
          "data": {
            "text/plain": [
              "(tensor([[9.8426e+10, 0.0000e+00, 5.1848e-44, 0.0000e+00],\n",
              "         [       nan, 1.6914e-36, 3.0478e+32, 4.5925e+24],\n",
              "         [1.7448e+22, 7.5878e+31, 1.8522e+28, 1.8057e+28]]),\n",
              " tensor([[9.8426e+10,        nan, 1.7448e+22],\n",
              "         [0.0000e+00, 1.6914e-36, 7.5878e+31],\n",
              "         [5.1848e-44, 3.0478e+32, 1.8522e+28],\n",
              "         [0.0000e+00, 4.5925e+24, 1.8057e+28]]))"
            ]
          },
          "metadata": {},
          "execution_count": 111
        }
      ]
    },
    {
      "cell_type": "code",
      "source": [
        "# torch.transpose(input, dim_0, dim_1)\n",
        "# 바꿀 차원을 2개를 지정함\n",
        "# 텐서의 내부 차원간 바꾸기\n",
        "\n",
        "x1 = torch.FloatTensor(10,3,4)\n",
        "\n",
        "# 1차원과 2차원을 서로 바꿈\n",
        "x1.size(), torch.transpose(x1, 1, 2).size(), x1.transpose(1,2).size()"
      ],
      "metadata": {
        "colab": {
          "base_uri": "https://localhost:8080/"
        },
        "id": "Z7rKmDlBtvsy",
        "outputId": "64324269-9b50-475e-f1e2-c621814dff29"
      },
      "execution_count": null,
      "outputs": [
        {
          "output_type": "execute_result",
          "data": {
            "text/plain": [
              "(torch.Size([10, 3, 4]), torch.Size([10, 4, 3]), torch.Size([10, 4, 3]))"
            ]
          },
          "metadata": {},
          "execution_count": 109
        }
      ]
    },
    {
      "cell_type": "code",
      "source": [
        "# torch.eig(input, eigenvectors=False || True)\n",
        "# 고유값(eigen_value), 또는 고유벡터(eigen_vector) 반환\n",
        "\n",
        "x1 = torch.FloatTensor(4,4)\n",
        "x1, torch.eig(x1, True)"
      ],
      "metadata": {
        "colab": {
          "base_uri": "https://localhost:8080/"
        },
        "id": "CeY-Fo4WuqrJ",
        "outputId": "69aaca12-adc4-4958-ed70-ee232fa3ef78"
      },
      "execution_count": null,
      "outputs": [
        {
          "output_type": "execute_result",
          "data": {
            "text/plain": [
              "(tensor([[ 9.8426e+10,  0.0000e+00,  2.3694e-38,  3.0478e+32],\n",
              "         [ 4.5925e+24,  1.7448e+22,  7.5878e+31,  1.8522e+28],\n",
              "         [ 1.8057e+28,  7.1901e+28,  6.2706e+22,  4.7428e+30],\n",
              "         [ 8.6096e-42,  1.2979e-39, -2.3058e+38,  1.4013e-45]]),\n",
              " torch.return_types.eig(\n",
              " eigenvalues=tensor([[ 5.8031e+29,  3.3070e+34],\n",
              "         [ 5.8031e+29, -3.3070e+34],\n",
              "         [-1.1607e+30,  0.0000e+00],\n",
              "         [-1.8998e+25,  0.0000e+00]]),\n",
              " eigenvectors=tensor([[-1.9844e-07, -9.2160e-03,  9.9999e-01,  9.6986e-01],\n",
              "         [-3.2967e-07, -5.5986e-07,  5.6832e-05, -2.4364e-01],\n",
              "         [-2.5168e-09, -1.4341e-04, -1.9243e-11, -1.0388e-14],\n",
              "         [ 9.9996e-01,  0.0000e+00, -3.8081e-03,  5.2423e-08]])))"
            ]
          },
          "metadata": {},
          "execution_count": 112
        }
      ]
    }
  ]
}