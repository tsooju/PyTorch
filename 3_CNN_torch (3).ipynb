{
  "nbformat": 4,
  "nbformat_minor": 0,
  "metadata": {
    "colab": {
      "provenance": [],
      "collapsed_sections": []
    },
    "kernelspec": {
      "name": "python3",
      "display_name": "Python 3"
    },
    "language_info": {
      "name": "python"
    },
    "accelerator": "GPU",
    "gpuClass": "standard"
  },
  "cells": [
    {
      "cell_type": "markdown",
      "source": [
        "# **3_CNN_torch.ipynb**\n",
        "\n",
        "CNN(Convolutional Neural Network)\n",
        "- MNIST data\n",
        "- 3개의 합성곱 레이어\n",
        "- 2개의 풀링 레이어\n",
        "\n"
      ],
      "metadata": {
        "id": "Da4Eo0s9pJIR"
      }
    },
    {
      "cell_type": "markdown",
      "source": [
        "# **1. Settings**\n",
        "\n",
        "1) import required libraries "
      ],
      "metadata": {
        "id": "i6fnKNJJptOi"
      }
    },
    {
      "cell_type": "code",
      "source": [
        "!pip3 install Visdom"
      ],
      "metadata": {
        "colab": {
          "base_uri": "https://localhost:8080/"
        },
        "id": "tna5nH1TrCsT",
        "outputId": "14ec6e3f-990d-4be7-8478-3268af8ae8e3"
      },
      "execution_count": null,
      "outputs": [
        {
          "output_type": "stream",
          "name": "stderr",
          "text": [
            "ERROR:websocket:[Errno 99] Cannot assign requested address - goodbye\n",
            "ERROR:visdom:[Errno 99] Cannot assign requested address\n",
            "ERROR:websocket:error from callback <function Visdom.setup_socket.<locals>.on_close at 0x7f09b57824d0>: on_close() takes 1 positional argument but 3 were given\n",
            "ERROR:visdom:on_close() takes 1 positional argument but 3 were given\n"
          ]
        },
        {
          "output_type": "stream",
          "name": "stdout",
          "text": [
            "Looking in indexes: https://pypi.org/simple, https://us-python.pkg.dev/colab-wheels/public/simple/\n",
            "Requirement already satisfied: Visdom in /usr/local/lib/python3.7/dist-packages (0.2.3)\n",
            "Requirement already satisfied: scipy in /usr/local/lib/python3.7/dist-packages (from Visdom) (1.7.3)\n",
            "Requirement already satisfied: networkx in /usr/local/lib/python3.7/dist-packages (from Visdom) (2.6.3)\n",
            "Requirement already satisfied: tornado in /usr/local/lib/python3.7/dist-packages (from Visdom) (5.1.1)\n",
            "Requirement already satisfied: pillow in /usr/local/lib/python3.7/dist-packages (from Visdom) (7.1.2)\n",
            "Requirement already satisfied: websocket-client in /usr/local/lib/python3.7/dist-packages (from Visdom) (1.4.1)\n",
            "Requirement already satisfied: numpy>=1.8 in /usr/local/lib/python3.7/dist-packages (from Visdom) (1.21.6)\n",
            "Requirement already satisfied: six in /usr/local/lib/python3.7/dist-packages (from Visdom) (1.15.0)\n",
            "Requirement already satisfied: requests in /usr/local/lib/python3.7/dist-packages (from Visdom) (2.23.0)\n",
            "Requirement already satisfied: jsonpatch in /usr/local/lib/python3.7/dist-packages (from Visdom) (1.32)\n",
            "Requirement already satisfied: jsonpointer>=1.9 in /usr/local/lib/python3.7/dist-packages (from jsonpatch->Visdom) (2.3)\n",
            "Requirement already satisfied: urllib3!=1.25.0,!=1.25.1,<1.26,>=1.21.1 in /usr/local/lib/python3.7/dist-packages (from requests->Visdom) (1.24.3)\n",
            "Requirement already satisfied: idna<3,>=2.5 in /usr/local/lib/python3.7/dist-packages (from requests->Visdom) (2.10)\n",
            "Requirement already satisfied: certifi>=2017.4.17 in /usr/local/lib/python3.7/dist-packages (from requests->Visdom) (2022.9.24)\n",
            "Requirement already satisfied: chardet<4,>=3.0.2 in /usr/local/lib/python3.7/dist-packages (from requests->Visdom) (3.0.4)\n"
          ]
        }
      ]
    },
    {
      "cell_type": "code",
      "source": [
        "import numpy as np\n",
        "import torch\n",
        "import torch.nn as nn\n",
        "import torch.optim as optim\n",
        "import torch.nn.init as init\n",
        "import torchvision.datasets as dset\n",
        "import torchvision.transforms as transforms\n",
        "from torch.utils.data import DataLoader\n",
        "from torch.autograd import Variable\n",
        "from visdom import Visdom\n",
        "\n",
        "# viz = Visdom()\n"
      ],
      "metadata": {
        "id": "reFonqr7p9Fz"
      },
      "execution_count": null,
      "outputs": []
    },
    {
      "cell_type": "markdown",
      "source": [
        "2) Set hyperparameters "
      ],
      "metadata": {
        "id": "wRRU6oc3rUUK"
      }
    },
    {
      "cell_type": "code",
      "source": [
        "batch_size = 16\n",
        "learning_rate = 0.0002 # 학습률\n",
        "num_epoch = 10 # 반복수"
      ],
      "metadata": {
        "id": "FanO-Z5ircYL"
      },
      "execution_count": null,
      "outputs": []
    },
    {
      "cell_type": "markdown",
      "source": [
        "**2. Data**\n",
        "\n",
        "1)Download Data"
      ],
      "metadata": {
        "id": "Hc78EfHgryPk"
      }
    },
    {
      "cell_type": "code",
      "source": [
        "mnist_train = dset.MNIST(\"./\", train=True, transform=transforms.ToTensor(), target_transform=None, download=True)\n",
        "mnist_test = dset.MNIST(\"./\", train=False, transform=transforms.ToTensor(), target_transform=None, download=True)"
      ],
      "metadata": {
        "id": "sfkE0J_Lr5wM"
      },
      "execution_count": null,
      "outputs": []
    },
    {
      "cell_type": "markdown",
      "source": [
        "2) check Dataset"
      ],
      "metadata": {
        "id": "nTg72CzZtGGb"
      }
    },
    {
      "cell_type": "code",
      "source": [
        "print(mnist_train.__getitem__(0)[0].size(), mnist_train.__len__())\n",
        "print(mnist_test.__getitem__(0)[0].size(), mnist_test.__len__())"
      ],
      "metadata": {
        "colab": {
          "base_uri": "https://localhost:8080/"
        },
        "id": "2YijYm1ItI5x",
        "outputId": "49841a0c-956a-4415-e7d6-874e99171254"
      },
      "execution_count": null,
      "outputs": [
        {
          "output_type": "stream",
          "name": "stdout",
          "text": [
            "torch.Size([1, 28, 28]) 60000\n",
            "torch.Size([1, 28, 28]) 10000\n"
          ]
        }
      ]
    },
    {
      "cell_type": "markdown",
      "source": [
        "3) Set DataLoader"
      ],
      "metadata": {
        "id": "LJuoP1kguAai"
      }
    },
    {
      "cell_type": "code",
      "source": [
        "# train_loader = torch.utils.data.DataLoader()\n",
        "train_loader = DataLoader(mnist_train, batch_size=batch_size, shuffle=True, num_workers=2, drop_last=True)\n",
        "test_loader = DataLoader(mnist_test, batch_size=batch_size, shuffle=False, num_workers=2, drop_last=True)"
      ],
      "metadata": {
        "id": "c1tPOGGyuEzJ"
      },
      "execution_count": null,
      "outputs": []
    },
    {
      "cell_type": "markdown",
      "source": [
        "**3. Model & Optimizer**\n",
        "\n",
        "1) CNN Model\n"
      ],
      "metadata": {
        "id": "xc4a_sBPvVYx"
      }
    },
    {
      "cell_type": "code",
      "source": [
        "class CNN(nn.Module):\n",
        "  def __init__(self):\n",
        "    super(CNN, self).__init__()\n",
        "    self.layer = nn.Sequential(\n",
        "      nn.Conv2d(1, 16, 5),\n",
        "      nn.ReLU(),\n",
        "      nn.Conv2d(16, 32, 5),\n",
        "      nn.ReLU(),\n",
        "      nn.MaxPool2d(2,2),\n",
        "      nn.Conv2d(32, 64, 5), \n",
        "      nn.ReLU(),\n",
        "      nn.MaxPool2d(2,2)\n",
        "\n",
        "    )\n",
        "    self.fc_layer = nn.Sequential(\n",
        "        nn.Linear(64*3*3, 100),\n",
        "        nn.ReLU(),\n",
        "        nn.Linear(100, 10)\n",
        "    )\n",
        "  def forward(self, x):\n",
        "    out = self.layer(x)\n",
        "    out = out.view(batch_size, -1)\n",
        "    out = self.fc_layer(out)\n",
        "\n",
        "    return out"
      ],
      "metadata": {
        "id": "dXGIadzKvdVp"
      },
      "execution_count": null,
      "outputs": []
    },
    {
      "cell_type": "code",
      "source": [
        "model = CNN().cuda()"
      ],
      "metadata": {
        "id": "I0wdbkQryWtR"
      },
      "execution_count": null,
      "outputs": []
    },
    {
      "cell_type": "markdown",
      "source": [
        "2) Loss func & Optimizer"
      ],
      "metadata": {
        "id": "1l1CvhI82QvP"
      }
    },
    {
      "cell_type": "code",
      "source": [
        "loss_func = nn.CrossEntropyLoss()\n",
        "optimizer = torch.optim.SGD(model.parameters(), lr=learning_rate)"
      ],
      "metadata": {
        "id": "9oP-mvI32OAv"
      },
      "execution_count": null,
      "outputs": []
    },
    {
      "cell_type": "markdown",
      "source": [
        "**4. Train**"
      ],
      "metadata": {
        "id": "2ZAQrAw-29Ye"
      }
    },
    {
      "cell_type": "code",
      "source": [
        "for i in range(num_epoch):\n",
        "  for j, [image, label] in enumerate(train_loader):\n",
        "      x = Variable(image).cuda()\n",
        "      y_ = Variable(label).cuda()\n",
        "\n",
        "      optimizer.zero_grad()\n",
        "      output = model.forward(x)\n",
        "      loss = loss_func(output, y_)\n",
        "      loss.backward()\n",
        "      optimizer.step()\n",
        "\n",
        "      if j % 1000 == 0:\n",
        "        print(loss)"
      ],
      "metadata": {
        "colab": {
          "base_uri": "https://localhost:8080/"
        },
        "id": "Be1zqNJj2_wm",
        "outputId": "5ce5f8ba-80b9-4470-9989-10012428405c"
      },
      "execution_count": null,
      "outputs": [
        {
          "output_type": "stream",
          "name": "stdout",
          "text": [
            "tensor(2.3031, device='cuda:0', grad_fn=<NllLossBackward0>)\n"
          ]
        },
        {
          "output_type": "stream",
          "name": "stderr",
          "text": [
            "ERROR:websocket:[Errno 99] Cannot assign requested address - goodbye\n",
            "ERROR:visdom:[Errno 99] Cannot assign requested address\n",
            "ERROR:websocket:error from callback <function Visdom.setup_socket.<locals>.on_close at 0x7f09b57824d0>: on_close() takes 1 positional argument but 3 were given\n",
            "ERROR:visdom:on_close() takes 1 positional argument but 3 were given\n",
            "ERROR:websocket:[Errno 99] Cannot assign requested address - goodbye\n",
            "ERROR:visdom:[Errno 99] Cannot assign requested address\n",
            "ERROR:websocket:error from callback <function Visdom.setup_socket.<locals>.on_close at 0x7f09b57824d0>: on_close() takes 1 positional argument but 3 were given\n",
            "ERROR:visdom:on_close() takes 1 positional argument but 3 were given\n"
          ]
        },
        {
          "output_type": "stream",
          "name": "stdout",
          "text": [
            "tensor(2.2982, device='cuda:0', grad_fn=<NllLossBackward0>)\n"
          ]
        },
        {
          "output_type": "stream",
          "name": "stderr",
          "text": [
            "ERROR:websocket:[Errno 99] Cannot assign requested address - goodbye\n",
            "ERROR:visdom:[Errno 99] Cannot assign requested address\n",
            "ERROR:websocket:error from callback <function Visdom.setup_socket.<locals>.on_close at 0x7f09b57824d0>: on_close() takes 1 positional argument but 3 were given\n",
            "ERROR:visdom:on_close() takes 1 positional argument but 3 were given\n",
            "ERROR:websocket:[Errno 99] Cannot assign requested address - goodbye\n",
            "ERROR:visdom:[Errno 99] Cannot assign requested address\n",
            "ERROR:websocket:error from callback <function Visdom.setup_socket.<locals>.on_close at 0x7f09b57824d0>: on_close() takes 1 positional argument but 3 were given\n",
            "ERROR:visdom:on_close() takes 1 positional argument but 3 were given\n"
          ]
        },
        {
          "output_type": "stream",
          "name": "stdout",
          "text": [
            "tensor(2.2821, device='cuda:0', grad_fn=<NllLossBackward0>)\n"
          ]
        },
        {
          "output_type": "stream",
          "name": "stderr",
          "text": [
            "ERROR:websocket:[Errno 99] Cannot assign requested address - goodbye\n",
            "ERROR:visdom:[Errno 99] Cannot assign requested address\n",
            "ERROR:websocket:error from callback <function Visdom.setup_socket.<locals>.on_close at 0x7f09b57824d0>: on_close() takes 1 positional argument but 3 were given\n",
            "ERROR:visdom:on_close() takes 1 positional argument but 3 were given\n",
            "ERROR:websocket:[Errno 99] Cannot assign requested address - goodbye\n",
            "ERROR:visdom:[Errno 99] Cannot assign requested address\n",
            "ERROR:websocket:error from callback <function Visdom.setup_socket.<locals>.on_close at 0x7f09b57824d0>: on_close() takes 1 positional argument but 3 were given\n",
            "ERROR:visdom:on_close() takes 1 positional argument but 3 were given\n"
          ]
        },
        {
          "output_type": "stream",
          "name": "stdout",
          "text": [
            "tensor(2.2948, device='cuda:0', grad_fn=<NllLossBackward0>)\n"
          ]
        },
        {
          "output_type": "stream",
          "name": "stderr",
          "text": [
            "ERROR:websocket:[Errno 99] Cannot assign requested address - goodbye\n",
            "ERROR:visdom:[Errno 99] Cannot assign requested address\n",
            "ERROR:websocket:error from callback <function Visdom.setup_socket.<locals>.on_close at 0x7f09b57824d0>: on_close() takes 1 positional argument but 3 were given\n",
            "ERROR:visdom:on_close() takes 1 positional argument but 3 were given\n",
            "ERROR:websocket:[Errno 99] Cannot assign requested address - goodbye\n",
            "ERROR:visdom:[Errno 99] Cannot assign requested address\n",
            "ERROR:websocket:error from callback <function Visdom.setup_socket.<locals>.on_close at 0x7f09b57824d0>: on_close() takes 1 positional argument but 3 were given\n",
            "ERROR:visdom:on_close() takes 1 positional argument but 3 were given\n"
          ]
        },
        {
          "output_type": "stream",
          "name": "stdout",
          "text": [
            "tensor(2.2979, device='cuda:0', grad_fn=<NllLossBackward0>)\n"
          ]
        },
        {
          "output_type": "stream",
          "name": "stderr",
          "text": [
            "ERROR:websocket:[Errno 99] Cannot assign requested address - goodbye\n",
            "ERROR:visdom:[Errno 99] Cannot assign requested address\n",
            "ERROR:websocket:error from callback <function Visdom.setup_socket.<locals>.on_close at 0x7f09b57824d0>: on_close() takes 1 positional argument but 3 were given\n",
            "ERROR:visdom:on_close() takes 1 positional argument but 3 were given\n"
          ]
        },
        {
          "output_type": "stream",
          "name": "stdout",
          "text": [
            "tensor(2.2899, device='cuda:0', grad_fn=<NllLossBackward0>)\n"
          ]
        },
        {
          "output_type": "stream",
          "name": "stderr",
          "text": [
            "ERROR:websocket:[Errno 99] Cannot assign requested address - goodbye\n",
            "ERROR:visdom:[Errno 99] Cannot assign requested address\n",
            "ERROR:websocket:error from callback <function Visdom.setup_socket.<locals>.on_close at 0x7f09b57824d0>: on_close() takes 1 positional argument but 3 were given\n",
            "ERROR:visdom:on_close() takes 1 positional argument but 3 were given\n",
            "ERROR:websocket:[Errno 99] Cannot assign requested address - goodbye\n",
            "ERROR:visdom:[Errno 99] Cannot assign requested address\n",
            "ERROR:websocket:error from callback <function Visdom.setup_socket.<locals>.on_close at 0x7f09b57824d0>: on_close() takes 1 positional argument but 3 were given\n",
            "ERROR:visdom:on_close() takes 1 positional argument but 3 were given\n"
          ]
        },
        {
          "output_type": "stream",
          "name": "stdout",
          "text": [
            "tensor(2.2961, device='cuda:0', grad_fn=<NllLossBackward0>)\n"
          ]
        },
        {
          "output_type": "stream",
          "name": "stderr",
          "text": [
            "ERROR:websocket:[Errno 99] Cannot assign requested address - goodbye\n",
            "ERROR:visdom:[Errno 99] Cannot assign requested address\n",
            "ERROR:websocket:error from callback <function Visdom.setup_socket.<locals>.on_close at 0x7f09b57824d0>: on_close() takes 1 positional argument but 3 were given\n",
            "ERROR:visdom:on_close() takes 1 positional argument but 3 were given\n"
          ]
        },
        {
          "output_type": "stream",
          "name": "stdout",
          "text": [
            "tensor(2.2981, device='cuda:0', grad_fn=<NllLossBackward0>)\n"
          ]
        },
        {
          "output_type": "stream",
          "name": "stderr",
          "text": [
            "ERROR:websocket:[Errno 99] Cannot assign requested address - goodbye\n",
            "ERROR:visdom:[Errno 99] Cannot assign requested address\n",
            "ERROR:websocket:error from callback <function Visdom.setup_socket.<locals>.on_close at 0x7f09b57824d0>: on_close() takes 1 positional argument but 3 were given\n",
            "ERROR:visdom:on_close() takes 1 positional argument but 3 were given\n",
            "ERROR:websocket:[Errno 99] Cannot assign requested address - goodbye\n",
            "ERROR:visdom:[Errno 99] Cannot assign requested address\n",
            "ERROR:websocket:error from callback <function Visdom.setup_socket.<locals>.on_close at 0x7f09b57824d0>: on_close() takes 1 positional argument but 3 were given\n",
            "ERROR:visdom:on_close() takes 1 positional argument but 3 were given\n"
          ]
        },
        {
          "output_type": "stream",
          "name": "stdout",
          "text": [
            "tensor(2.2839, device='cuda:0', grad_fn=<NllLossBackward0>)\n"
          ]
        },
        {
          "output_type": "stream",
          "name": "stderr",
          "text": [
            "ERROR:websocket:[Errno 99] Cannot assign requested address - goodbye\n",
            "ERROR:visdom:[Errno 99] Cannot assign requested address\n",
            "ERROR:websocket:error from callback <function Visdom.setup_socket.<locals>.on_close at 0x7f09b57824d0>: on_close() takes 1 positional argument but 3 were given\n",
            "ERROR:visdom:on_close() takes 1 positional argument but 3 were given\n"
          ]
        },
        {
          "output_type": "stream",
          "name": "stdout",
          "text": [
            "tensor(2.2865, device='cuda:0', grad_fn=<NllLossBackward0>)\n"
          ]
        },
        {
          "output_type": "stream",
          "name": "stderr",
          "text": [
            "ERROR:websocket:[Errno 99] Cannot assign requested address - goodbye\n",
            "ERROR:visdom:[Errno 99] Cannot assign requested address\n",
            "ERROR:websocket:error from callback <function Visdom.setup_socket.<locals>.on_close at 0x7f09b57824d0>: on_close() takes 1 positional argument but 3 were given\n",
            "ERROR:visdom:on_close() takes 1 positional argument but 3 were given\n",
            "ERROR:websocket:[Errno 99] Cannot assign requested address - goodbye\n",
            "ERROR:visdom:[Errno 99] Cannot assign requested address\n",
            "ERROR:websocket:error from callback <function Visdom.setup_socket.<locals>.on_close at 0x7f09b57824d0>: on_close() takes 1 positional argument but 3 were given\n",
            "ERROR:visdom:on_close() takes 1 positional argument but 3 were given\n"
          ]
        },
        {
          "output_type": "stream",
          "name": "stdout",
          "text": [
            "tensor(2.2862, device='cuda:0', grad_fn=<NllLossBackward0>)\n"
          ]
        },
        {
          "output_type": "stream",
          "name": "stderr",
          "text": [
            "ERROR:websocket:[Errno 99] Cannot assign requested address - goodbye\n",
            "ERROR:visdom:[Errno 99] Cannot assign requested address\n",
            "ERROR:websocket:error from callback <function Visdom.setup_socket.<locals>.on_close at 0x7f09b57824d0>: on_close() takes 1 positional argument but 3 were given\n",
            "ERROR:visdom:on_close() takes 1 positional argument but 3 were given\n"
          ]
        },
        {
          "output_type": "stream",
          "name": "stdout",
          "text": [
            "tensor(2.2971, device='cuda:0', grad_fn=<NllLossBackward0>)\n"
          ]
        },
        {
          "output_type": "stream",
          "name": "stderr",
          "text": [
            "ERROR:websocket:[Errno 99] Cannot assign requested address - goodbye\n",
            "ERROR:visdom:[Errno 99] Cannot assign requested address\n",
            "ERROR:websocket:error from callback <function Visdom.setup_socket.<locals>.on_close at 0x7f09b57824d0>: on_close() takes 1 positional argument but 3 were given\n",
            "ERROR:visdom:on_close() takes 1 positional argument but 3 were given\n",
            "ERROR:websocket:[Errno 99] Cannot assign requested address - goodbye\n",
            "ERROR:visdom:[Errno 99] Cannot assign requested address\n",
            "ERROR:websocket:error from callback <function Visdom.setup_socket.<locals>.on_close at 0x7f09b57824d0>: on_close() takes 1 positional argument but 3 were given\n",
            "ERROR:visdom:on_close() takes 1 positional argument but 3 were given\n"
          ]
        },
        {
          "output_type": "stream",
          "name": "stdout",
          "text": [
            "tensor(2.2623, device='cuda:0', grad_fn=<NllLossBackward0>)\n"
          ]
        },
        {
          "output_type": "stream",
          "name": "stderr",
          "text": [
            "ERROR:websocket:[Errno 99] Cannot assign requested address - goodbye\n",
            "ERROR:visdom:[Errno 99] Cannot assign requested address\n",
            "ERROR:websocket:error from callback <function Visdom.setup_socket.<locals>.on_close at 0x7f09b57824d0>: on_close() takes 1 positional argument but 3 were given\n",
            "ERROR:visdom:on_close() takes 1 positional argument but 3 were given\n"
          ]
        },
        {
          "output_type": "stream",
          "name": "stdout",
          "text": [
            "tensor(2.2598, device='cuda:0', grad_fn=<NllLossBackward0>)\n"
          ]
        },
        {
          "output_type": "stream",
          "name": "stderr",
          "text": [
            "ERROR:websocket:[Errno 99] Cannot assign requested address - goodbye\n",
            "ERROR:visdom:[Errno 99] Cannot assign requested address\n",
            "ERROR:websocket:error from callback <function Visdom.setup_socket.<locals>.on_close at 0x7f09b57824d0>: on_close() takes 1 positional argument but 3 were given\n",
            "ERROR:visdom:on_close() takes 1 positional argument but 3 were given\n",
            "ERROR:websocket:[Errno 99] Cannot assign requested address - goodbye\n",
            "ERROR:visdom:[Errno 99] Cannot assign requested address\n",
            "ERROR:websocket:error from callback <function Visdom.setup_socket.<locals>.on_close at 0x7f09b57824d0>: on_close() takes 1 positional argument but 3 were given\n",
            "ERROR:visdom:on_close() takes 1 positional argument but 3 were given\n"
          ]
        },
        {
          "output_type": "stream",
          "name": "stdout",
          "text": [
            "tensor(2.2641, device='cuda:0', grad_fn=<NllLossBackward0>)\n"
          ]
        },
        {
          "output_type": "stream",
          "name": "stderr",
          "text": [
            "ERROR:websocket:[Errno 99] Cannot assign requested address - goodbye\n",
            "ERROR:visdom:[Errno 99] Cannot assign requested address\n",
            "ERROR:websocket:error from callback <function Visdom.setup_socket.<locals>.on_close at 0x7f09b57824d0>: on_close() takes 1 positional argument but 3 were given\n",
            "ERROR:visdom:on_close() takes 1 positional argument but 3 were given\n"
          ]
        },
        {
          "output_type": "stream",
          "name": "stdout",
          "text": [
            "tensor(2.2492, device='cuda:0', grad_fn=<NllLossBackward0>)\n"
          ]
        },
        {
          "output_type": "stream",
          "name": "stderr",
          "text": [
            "ERROR:websocket:[Errno 99] Cannot assign requested address - goodbye\n",
            "ERROR:visdom:[Errno 99] Cannot assign requested address\n",
            "ERROR:websocket:error from callback <function Visdom.setup_socket.<locals>.on_close at 0x7f09b57824d0>: on_close() takes 1 positional argument but 3 were given\n",
            "ERROR:visdom:on_close() takes 1 positional argument but 3 were given\n",
            "ERROR:websocket:[Errno 99] Cannot assign requested address - goodbye\n",
            "ERROR:visdom:[Errno 99] Cannot assign requested address\n",
            "ERROR:websocket:error from callback <function Visdom.setup_socket.<locals>.on_close at 0x7f09b57824d0>: on_close() takes 1 positional argument but 3 were given\n",
            "ERROR:visdom:on_close() takes 1 positional argument but 3 were given\n"
          ]
        },
        {
          "output_type": "stream",
          "name": "stdout",
          "text": [
            "tensor(2.2251, device='cuda:0', grad_fn=<NllLossBackward0>)\n"
          ]
        },
        {
          "output_type": "stream",
          "name": "stderr",
          "text": [
            "ERROR:websocket:[Errno 99] Cannot assign requested address - goodbye\n",
            "ERROR:visdom:[Errno 99] Cannot assign requested address\n",
            "ERROR:websocket:error from callback <function Visdom.setup_socket.<locals>.on_close at 0x7f09b57824d0>: on_close() takes 1 positional argument but 3 were given\n",
            "ERROR:visdom:on_close() takes 1 positional argument but 3 were given\n"
          ]
        },
        {
          "output_type": "stream",
          "name": "stdout",
          "text": [
            "tensor(2.2353, device='cuda:0', grad_fn=<NllLossBackward0>)\n"
          ]
        },
        {
          "output_type": "stream",
          "name": "stderr",
          "text": [
            "ERROR:websocket:[Errno 99] Cannot assign requested address - goodbye\n",
            "ERROR:visdom:[Errno 99] Cannot assign requested address\n",
            "ERROR:websocket:error from callback <function Visdom.setup_socket.<locals>.on_close at 0x7f09b57824d0>: on_close() takes 1 positional argument but 3 were given\n",
            "ERROR:visdom:on_close() takes 1 positional argument but 3 were given\n",
            "ERROR:websocket:[Errno 99] Cannot assign requested address - goodbye\n",
            "ERROR:visdom:[Errno 99] Cannot assign requested address\n",
            "ERROR:websocket:error from callback <function Visdom.setup_socket.<locals>.on_close at 0x7f09b57824d0>: on_close() takes 1 positional argument but 3 were given\n",
            "ERROR:visdom:on_close() takes 1 positional argument but 3 were given\n"
          ]
        },
        {
          "output_type": "stream",
          "name": "stdout",
          "text": [
            "tensor(2.1914, device='cuda:0', grad_fn=<NllLossBackward0>)\n"
          ]
        },
        {
          "output_type": "stream",
          "name": "stderr",
          "text": [
            "ERROR:websocket:[Errno 99] Cannot assign requested address - goodbye\n",
            "ERROR:visdom:[Errno 99] Cannot assign requested address\n",
            "ERROR:websocket:error from callback <function Visdom.setup_socket.<locals>.on_close at 0x7f09b57824d0>: on_close() takes 1 positional argument but 3 were given\n",
            "ERROR:visdom:on_close() takes 1 positional argument but 3 were given\n"
          ]
        },
        {
          "output_type": "stream",
          "name": "stdout",
          "text": [
            "tensor(2.1846, device='cuda:0', grad_fn=<NllLossBackward0>)\n"
          ]
        },
        {
          "output_type": "stream",
          "name": "stderr",
          "text": [
            "ERROR:websocket:[Errno 99] Cannot assign requested address - goodbye\n",
            "ERROR:visdom:[Errno 99] Cannot assign requested address\n",
            "ERROR:websocket:error from callback <function Visdom.setup_socket.<locals>.on_close at 0x7f09b57824d0>: on_close() takes 1 positional argument but 3 were given\n",
            "ERROR:visdom:on_close() takes 1 positional argument but 3 were given\n",
            "ERROR:websocket:[Errno 99] Cannot assign requested address - goodbye\n",
            "ERROR:visdom:[Errno 99] Cannot assign requested address\n",
            "ERROR:websocket:error from callback <function Visdom.setup_socket.<locals>.on_close at 0x7f09b57824d0>: on_close() takes 1 positional argument but 3 were given\n",
            "ERROR:visdom:on_close() takes 1 positional argument but 3 were given\n"
          ]
        },
        {
          "output_type": "stream",
          "name": "stdout",
          "text": [
            "tensor(2.0435, device='cuda:0', grad_fn=<NllLossBackward0>)\n"
          ]
        },
        {
          "output_type": "stream",
          "name": "stderr",
          "text": [
            "ERROR:websocket:[Errno 99] Cannot assign requested address - goodbye\n",
            "ERROR:visdom:[Errno 99] Cannot assign requested address\n",
            "ERROR:websocket:error from callback <function Visdom.setup_socket.<locals>.on_close at 0x7f09b57824d0>: on_close() takes 1 positional argument but 3 were given\n",
            "ERROR:visdom:on_close() takes 1 positional argument but 3 were given\n"
          ]
        },
        {
          "output_type": "stream",
          "name": "stdout",
          "text": [
            "tensor(1.9596, device='cuda:0', grad_fn=<NllLossBackward0>)\n"
          ]
        },
        {
          "output_type": "stream",
          "name": "stderr",
          "text": [
            "ERROR:websocket:[Errno 99] Cannot assign requested address - goodbye\n",
            "ERROR:visdom:[Errno 99] Cannot assign requested address\n",
            "ERROR:websocket:error from callback <function Visdom.setup_socket.<locals>.on_close at 0x7f09b57824d0>: on_close() takes 1 positional argument but 3 were given\n",
            "ERROR:visdom:on_close() takes 1 positional argument but 3 were given\n",
            "ERROR:websocket:[Errno 99] Cannot assign requested address - goodbye\n",
            "ERROR:visdom:[Errno 99] Cannot assign requested address\n",
            "ERROR:websocket:error from callback <function Visdom.setup_socket.<locals>.on_close at 0x7f09b57824d0>: on_close() takes 1 positional argument but 3 were given\n",
            "ERROR:visdom:on_close() takes 1 positional argument but 3 were given\n"
          ]
        },
        {
          "output_type": "stream",
          "name": "stdout",
          "text": [
            "tensor(1.8372, device='cuda:0', grad_fn=<NllLossBackward0>)\n"
          ]
        },
        {
          "output_type": "stream",
          "name": "stderr",
          "text": [
            "ERROR:websocket:[Errno 99] Cannot assign requested address - goodbye\n",
            "ERROR:visdom:[Errno 99] Cannot assign requested address\n",
            "ERROR:websocket:error from callback <function Visdom.setup_socket.<locals>.on_close at 0x7f09b57824d0>: on_close() takes 1 positional argument but 3 were given\n",
            "ERROR:visdom:on_close() takes 1 positional argument but 3 were given\n"
          ]
        },
        {
          "output_type": "stream",
          "name": "stdout",
          "text": [
            "tensor(1.3887, device='cuda:0', grad_fn=<NllLossBackward0>)\n"
          ]
        },
        {
          "output_type": "stream",
          "name": "stderr",
          "text": [
            "ERROR:websocket:[Errno 99] Cannot assign requested address - goodbye\n",
            "ERROR:visdom:[Errno 99] Cannot assign requested address\n",
            "ERROR:websocket:error from callback <function Visdom.setup_socket.<locals>.on_close at 0x7f09b57824d0>: on_close() takes 1 positional argument but 3 were given\n",
            "ERROR:visdom:on_close() takes 1 positional argument but 3 were given\n",
            "ERROR:websocket:[Errno 99] Cannot assign requested address - goodbye\n",
            "ERROR:visdom:[Errno 99] Cannot assign requested address\n",
            "ERROR:websocket:error from callback <function Visdom.setup_socket.<locals>.on_close at 0x7f09b57824d0>: on_close() takes 1 positional argument but 3 were given\n",
            "ERROR:visdom:on_close() takes 1 positional argument but 3 were given\n"
          ]
        },
        {
          "output_type": "stream",
          "name": "stdout",
          "text": [
            "tensor(1.0172, device='cuda:0', grad_fn=<NllLossBackward0>)\n"
          ]
        },
        {
          "output_type": "stream",
          "name": "stderr",
          "text": [
            "ERROR:websocket:[Errno 99] Cannot assign requested address - goodbye\n",
            "ERROR:visdom:[Errno 99] Cannot assign requested address\n",
            "ERROR:websocket:error from callback <function Visdom.setup_socket.<locals>.on_close at 0x7f09b57824d0>: on_close() takes 1 positional argument but 3 were given\n",
            "ERROR:visdom:on_close() takes 1 positional argument but 3 were given\n"
          ]
        },
        {
          "output_type": "stream",
          "name": "stdout",
          "text": [
            "tensor(1.0067, device='cuda:0', grad_fn=<NllLossBackward0>)\n"
          ]
        },
        {
          "output_type": "stream",
          "name": "stderr",
          "text": [
            "ERROR:websocket:[Errno 99] Cannot assign requested address - goodbye\n",
            "ERROR:visdom:[Errno 99] Cannot assign requested address\n",
            "ERROR:websocket:error from callback <function Visdom.setup_socket.<locals>.on_close at 0x7f09b57824d0>: on_close() takes 1 positional argument but 3 were given\n",
            "ERROR:visdom:on_close() takes 1 positional argument but 3 were given\n",
            "ERROR:websocket:[Errno 99] Cannot assign requested address - goodbye\n",
            "ERROR:visdom:[Errno 99] Cannot assign requested address\n",
            "ERROR:websocket:error from callback <function Visdom.setup_socket.<locals>.on_close at 0x7f09b57824d0>: on_close() takes 1 positional argument but 3 were given\n",
            "ERROR:visdom:on_close() takes 1 positional argument but 3 were given\n"
          ]
        },
        {
          "output_type": "stream",
          "name": "stdout",
          "text": [
            "tensor(1.2092, device='cuda:0', grad_fn=<NllLossBackward0>)\n"
          ]
        },
        {
          "output_type": "stream",
          "name": "stderr",
          "text": [
            "ERROR:websocket:[Errno 99] Cannot assign requested address - goodbye\n",
            "ERROR:visdom:[Errno 99] Cannot assign requested address\n",
            "ERROR:websocket:error from callback <function Visdom.setup_socket.<locals>.on_close at 0x7f09b57824d0>: on_close() takes 1 positional argument but 3 were given\n",
            "ERROR:visdom:on_close() takes 1 positional argument but 3 were given\n"
          ]
        },
        {
          "output_type": "stream",
          "name": "stdout",
          "text": [
            "tensor(0.7014, device='cuda:0', grad_fn=<NllLossBackward0>)\n"
          ]
        },
        {
          "output_type": "stream",
          "name": "stderr",
          "text": [
            "ERROR:websocket:[Errno 99] Cannot assign requested address - goodbye\n",
            "ERROR:visdom:[Errno 99] Cannot assign requested address\n",
            "ERROR:websocket:error from callback <function Visdom.setup_socket.<locals>.on_close at 0x7f09b57824d0>: on_close() takes 1 positional argument but 3 were given\n",
            "ERROR:visdom:on_close() takes 1 positional argument but 3 were given\n",
            "ERROR:websocket:[Errno 99] Cannot assign requested address - goodbye\n",
            "ERROR:visdom:[Errno 99] Cannot assign requested address\n",
            "ERROR:websocket:error from callback <function Visdom.setup_socket.<locals>.on_close at 0x7f09b57824d0>: on_close() takes 1 positional argument but 3 were given\n",
            "ERROR:visdom:on_close() takes 1 positional argument but 3 were given\n"
          ]
        },
        {
          "output_type": "stream",
          "name": "stdout",
          "text": [
            "tensor(0.2470, device='cuda:0', grad_fn=<NllLossBackward0>)\n"
          ]
        },
        {
          "output_type": "stream",
          "name": "stderr",
          "text": [
            "ERROR:websocket:[Errno 99] Cannot assign requested address - goodbye\n",
            "ERROR:visdom:[Errno 99] Cannot assign requested address\n",
            "ERROR:websocket:error from callback <function Visdom.setup_socket.<locals>.on_close at 0x7f09b57824d0>: on_close() takes 1 positional argument but 3 were given\n",
            "ERROR:visdom:on_close() takes 1 positional argument but 3 were given\n"
          ]
        },
        {
          "output_type": "stream",
          "name": "stdout",
          "text": [
            "tensor(0.2269, device='cuda:0', grad_fn=<NllLossBackward0>)\n"
          ]
        },
        {
          "output_type": "stream",
          "name": "stderr",
          "text": [
            "ERROR:websocket:[Errno 99] Cannot assign requested address - goodbye\n",
            "ERROR:visdom:[Errno 99] Cannot assign requested address\n",
            "ERROR:websocket:error from callback <function Visdom.setup_socket.<locals>.on_close at 0x7f09b57824d0>: on_close() takes 1 positional argument but 3 were given\n",
            "ERROR:visdom:on_close() takes 1 positional argument but 3 were given\n",
            "ERROR:websocket:[Errno 99] Cannot assign requested address - goodbye\n",
            "ERROR:visdom:[Errno 99] Cannot assign requested address\n",
            "ERROR:websocket:error from callback <function Visdom.setup_socket.<locals>.on_close at 0x7f09b57824d0>: on_close() takes 1 positional argument but 3 were given\n",
            "ERROR:visdom:on_close() takes 1 positional argument but 3 were given\n"
          ]
        },
        {
          "output_type": "stream",
          "name": "stdout",
          "text": [
            "tensor(0.2207, device='cuda:0', grad_fn=<NllLossBackward0>)\n"
          ]
        },
        {
          "output_type": "stream",
          "name": "stderr",
          "text": [
            "ERROR:websocket:[Errno 99] Cannot assign requested address - goodbye\n",
            "ERROR:visdom:[Errno 99] Cannot assign requested address\n",
            "ERROR:websocket:error from callback <function Visdom.setup_socket.<locals>.on_close at 0x7f09b57824d0>: on_close() takes 1 positional argument but 3 were given\n",
            "ERROR:visdom:on_close() takes 1 positional argument but 3 were given\n"
          ]
        },
        {
          "output_type": "stream",
          "name": "stdout",
          "text": [
            "tensor(0.7890, device='cuda:0', grad_fn=<NllLossBackward0>)\n"
          ]
        },
        {
          "output_type": "stream",
          "name": "stderr",
          "text": [
            "ERROR:websocket:[Errno 99] Cannot assign requested address - goodbye\n",
            "ERROR:visdom:[Errno 99] Cannot assign requested address\n",
            "ERROR:websocket:error from callback <function Visdom.setup_socket.<locals>.on_close at 0x7f09b57824d0>: on_close() takes 1 positional argument but 3 were given\n",
            "ERROR:visdom:on_close() takes 1 positional argument but 3 were given\n",
            "ERROR:websocket:[Errno 99] Cannot assign requested address - goodbye\n",
            "ERROR:visdom:[Errno 99] Cannot assign requested address\n",
            "ERROR:websocket:error from callback <function Visdom.setup_socket.<locals>.on_close at 0x7f09b57824d0>: on_close() takes 1 positional argument but 3 were given\n",
            "ERROR:visdom:on_close() takes 1 positional argument but 3 were given\n"
          ]
        },
        {
          "output_type": "stream",
          "name": "stdout",
          "text": [
            "tensor(0.6022, device='cuda:0', grad_fn=<NllLossBackward0>)\n"
          ]
        },
        {
          "output_type": "stream",
          "name": "stderr",
          "text": [
            "ERROR:websocket:[Errno 99] Cannot assign requested address - goodbye\n",
            "ERROR:visdom:[Errno 99] Cannot assign requested address\n",
            "ERROR:websocket:error from callback <function Visdom.setup_socket.<locals>.on_close at 0x7f09b57824d0>: on_close() takes 1 positional argument but 3 were given\n",
            "ERROR:visdom:on_close() takes 1 positional argument but 3 were given\n"
          ]
        },
        {
          "output_type": "stream",
          "name": "stdout",
          "text": [
            "tensor(0.4412, device='cuda:0', grad_fn=<NllLossBackward0>)\n"
          ]
        },
        {
          "output_type": "stream",
          "name": "stderr",
          "text": [
            "ERROR:websocket:[Errno 99] Cannot assign requested address - goodbye\n",
            "ERROR:visdom:[Errno 99] Cannot assign requested address\n",
            "ERROR:websocket:error from callback <function Visdom.setup_socket.<locals>.on_close at 0x7f09b57824d0>: on_close() takes 1 positional argument but 3 were given\n",
            "ERROR:visdom:on_close() takes 1 positional argument but 3 were given\n",
            "ERROR:websocket:[Errno 99] Cannot assign requested address - goodbye\n",
            "ERROR:visdom:[Errno 99] Cannot assign requested address\n",
            "ERROR:websocket:error from callback <function Visdom.setup_socket.<locals>.on_close at 0x7f09b57824d0>: on_close() takes 1 positional argument but 3 were given\n",
            "ERROR:visdom:on_close() takes 1 positional argument but 3 were given\n"
          ]
        },
        {
          "output_type": "stream",
          "name": "stdout",
          "text": [
            "tensor(0.5392, device='cuda:0', grad_fn=<NllLossBackward0>)\n"
          ]
        },
        {
          "output_type": "stream",
          "name": "stderr",
          "text": [
            "ERROR:websocket:[Errno 99] Cannot assign requested address - goodbye\n",
            "ERROR:visdom:[Errno 99] Cannot assign requested address\n",
            "ERROR:websocket:error from callback <function Visdom.setup_socket.<locals>.on_close at 0x7f09b57824d0>: on_close() takes 1 positional argument but 3 were given\n",
            "ERROR:visdom:on_close() takes 1 positional argument but 3 were given\n"
          ]
        },
        {
          "output_type": "stream",
          "name": "stdout",
          "text": [
            "tensor(0.4079, device='cuda:0', grad_fn=<NllLossBackward0>)\n"
          ]
        },
        {
          "output_type": "stream",
          "name": "stderr",
          "text": [
            "ERROR:websocket:[Errno 99] Cannot assign requested address - goodbye\n",
            "ERROR:visdom:[Errno 99] Cannot assign requested address\n",
            "ERROR:websocket:error from callback <function Visdom.setup_socket.<locals>.on_close at 0x7f09b57824d0>: on_close() takes 1 positional argument but 3 were given\n",
            "ERROR:visdom:on_close() takes 1 positional argument but 3 were given\n",
            "ERROR:websocket:[Errno 99] Cannot assign requested address - goodbye\n",
            "ERROR:visdom:[Errno 99] Cannot assign requested address\n",
            "ERROR:websocket:error from callback <function Visdom.setup_socket.<locals>.on_close at 0x7f09b57824d0>: on_close() takes 1 positional argument but 3 were given\n",
            "ERROR:visdom:on_close() takes 1 positional argument but 3 were given\n"
          ]
        },
        {
          "output_type": "stream",
          "name": "stdout",
          "text": [
            "tensor(0.1242, device='cuda:0', grad_fn=<NllLossBackward0>)\n"
          ]
        },
        {
          "output_type": "stream",
          "name": "stderr",
          "text": [
            "ERROR:websocket:[Errno 99] Cannot assign requested address - goodbye\n",
            "ERROR:visdom:[Errno 99] Cannot assign requested address\n",
            "ERROR:websocket:error from callback <function Visdom.setup_socket.<locals>.on_close at 0x7f09b57824d0>: on_close() takes 1 positional argument but 3 were given\n",
            "ERROR:visdom:on_close() takes 1 positional argument but 3 were given\n"
          ]
        },
        {
          "output_type": "stream",
          "name": "stdout",
          "text": [
            "tensor(0.1478, device='cuda:0', grad_fn=<NllLossBackward0>)\n"
          ]
        },
        {
          "output_type": "stream",
          "name": "stderr",
          "text": [
            "ERROR:websocket:[Errno 99] Cannot assign requested address - goodbye\n",
            "ERROR:visdom:[Errno 99] Cannot assign requested address\n",
            "ERROR:websocket:error from callback <function Visdom.setup_socket.<locals>.on_close at 0x7f09b57824d0>: on_close() takes 1 positional argument but 3 were given\n",
            "ERROR:visdom:on_close() takes 1 positional argument but 3 were given\n",
            "ERROR:websocket:[Errno 99] Cannot assign requested address - goodbye\n",
            "ERROR:visdom:[Errno 99] Cannot assign requested address\n",
            "ERROR:websocket:error from callback <function Visdom.setup_socket.<locals>.on_close at 0x7f09b57824d0>: on_close() takes 1 positional argument but 3 were given\n",
            "ERROR:visdom:on_close() takes 1 positional argument but 3 were given\n"
          ]
        },
        {
          "output_type": "stream",
          "name": "stdout",
          "text": [
            "tensor(0.1999, device='cuda:0', grad_fn=<NllLossBackward0>)\n"
          ]
        },
        {
          "output_type": "stream",
          "name": "stderr",
          "text": [
            "ERROR:websocket:[Errno 99] Cannot assign requested address - goodbye\n",
            "ERROR:visdom:[Errno 99] Cannot assign requested address\n",
            "ERROR:websocket:error from callback <function Visdom.setup_socket.<locals>.on_close at 0x7f09b57824d0>: on_close() takes 1 positional argument but 3 were given\n",
            "ERROR:visdom:on_close() takes 1 positional argument but 3 were given\n",
            "ERROR:websocket:[Errno 99] Cannot assign requested address - goodbye\n",
            "ERROR:visdom:[Errno 99] Cannot assign requested address\n",
            "ERROR:websocket:error from callback <function Visdom.setup_socket.<locals>.on_close at 0x7f09b57824d0>: on_close() takes 1 positional argument but 3 were given\n",
            "ERROR:visdom:on_close() takes 1 positional argument but 3 were given\n"
          ]
        },
        {
          "output_type": "stream",
          "name": "stdout",
          "text": [
            "tensor(0.1830, device='cuda:0', grad_fn=<NllLossBackward0>)\n"
          ]
        },
        {
          "output_type": "stream",
          "name": "stderr",
          "text": [
            "ERROR:websocket:[Errno 99] Cannot assign requested address - goodbye\n",
            "ERROR:visdom:[Errno 99] Cannot assign requested address\n",
            "ERROR:websocket:error from callback <function Visdom.setup_socket.<locals>.on_close at 0x7f09b57824d0>: on_close() takes 1 positional argument but 3 were given\n",
            "ERROR:visdom:on_close() takes 1 positional argument but 3 were given\n"
          ]
        }
      ]
    },
    {
      "cell_type": "markdown",
      "source": [
        "**5. Test**"
      ],
      "metadata": {
        "id": "zk560GNf7HMd"
      }
    },
    {
      "cell_type": "code",
      "source": [
        "correct = 0\n",
        "total = 0\n",
        "\n",
        "for image, label in test_loader:\n",
        "  x = Variable(image, volatile=True).cuda()\n",
        "  y_ = Variable(label).cuda()\n",
        "\n",
        "  output = model.forward(x)\n",
        "  _, output_index = torch.max(output, 1)\n",
        "\n",
        "  total += label.size(0)\n",
        "  correct += (output_index == y_).sum().float()\n",
        "\n",
        "  print(\"평가 데이터 정확도 : {}\".format(100*correct/total))"
      ],
      "metadata": {
        "colab": {
          "base_uri": "https://localhost:8080/"
        },
        "id": "nWsCF1OV7LZF",
        "outputId": "ff246853-595e-42c6-936e-5e33320950aa"
      },
      "execution_count": null,
      "outputs": [
        {
          "output_type": "stream",
          "name": "stderr",
          "text": [
            "/usr/local/lib/python3.7/dist-packages/ipykernel_launcher.py:5: UserWarning: volatile was removed and now has no effect. Use `with torch.no_grad():` instead.\n",
            "  \"\"\"\n"
          ]
        },
        {
          "output_type": "stream",
          "name": "stdout",
          "text": [
            "평가 데이터 정확도 : 93.75\n",
            "평가 데이터 정확도 : 96.875\n",
            "평가 데이터 정확도 : 93.75\n",
            "평가 데이터 정확도 : 93.75\n",
            "평가 데이터 정확도 : 91.25\n",
            "평가 데이터 정확도 : 90.625\n",
            "평가 데이터 정확도 : 91.0714340209961\n",
            "평가 데이터 정확도 : 91.40625\n",
            "평가 데이터 정확도 : 92.36111450195312\n",
            "평가 데이터 정확도 : 91.875\n",
            "평가 데이터 정확도 : 92.04545593261719\n",
            "평가 데이터 정확도 : 92.70833587646484\n",
            "평가 데이터 정확도 : 92.78846740722656\n",
            "평가 데이터 정확도 : 92.85714721679688\n",
            "평가 데이터 정확도 : 92.91667175292969\n",
            "평가 데이터 정확도 : 91.796875\n",
            "평가 데이터 정확도 : 91.54412078857422\n",
            "평가 데이터 정확도 : 92.0138931274414\n",
            "평가 데이터 정확도 : 91.44737243652344\n",
            "평가 데이터 정확도 : 90.625\n",
            "평가 데이터 정확도 : 90.47618865966797\n",
            "평가 데이터 정확도 : 90.05682373046875\n",
            "평가 데이터 정확도 : 90.21739196777344\n",
            "평가 데이터 정확도 : 90.36458587646484\n",
            "평가 데이터 정확도 : 90.5\n",
            "평가 데이터 정확도 : 90.3846206665039\n",
            "평가 데이터 정확도 : 90.74073791503906\n",
            "평가 데이터 정확도 : 90.40178680419922\n",
            "평가 데이터 정확도 : 89.87068939208984\n",
            "평가 데이터 정확도 : 89.37500762939453\n",
            "평가 데이터 정확도 : 89.71774291992188\n",
            "평가 데이터 정확도 : 89.0625\n",
            "평가 데이터 정확도 : 89.3939437866211\n",
            "평가 데이터 정확도 : 89.3382339477539\n",
            "평가 데이터 정확도 : 89.28571319580078\n",
            "평가 데이터 정확도 : 89.0625\n",
            "평가 데이터 정확도 : 88.85135650634766\n",
            "평가 데이터 정확도 : 88.81578826904297\n",
            "평가 데이터 정확도 : 88.78205108642578\n",
            "평가 데이터 정확도 : 88.90625\n",
            "평가 데이터 정확도 : 89.02438354492188\n",
            "평가 데이터 정확도 : 88.83928680419922\n",
            "평가 데이터 정확도 : 88.9534912109375\n",
            "평가 데이터 정확도 : 88.92045593261719\n",
            "평가 데이터 정확도 : 88.8888931274414\n",
            "평가 데이터 정확도 : 88.85869598388672\n",
            "평가 데이터 정확도 : 88.82978820800781\n",
            "평가 데이터 정확도 : 89.0625\n",
            "평가 데이터 정확도 : 89.28571319580078\n",
            "평가 데이터 정확도 : 89.375\n",
            "평가 데이터 정확도 : 89.46078491210938\n",
            "평가 데이터 정확도 : 89.54327392578125\n",
            "평가 데이터 정확도 : 89.38679504394531\n",
            "평가 데이터 정확도 : 89.46759033203125\n"
          ]
        },
        {
          "output_type": "stream",
          "name": "stderr",
          "text": [
            "ERROR:websocket:[Errno 99] Cannot assign requested address - goodbye\n",
            "ERROR:visdom:[Errno 99] Cannot assign requested address\n",
            "ERROR:websocket:error from callback <function Visdom.setup_socket.<locals>.on_close at 0x7f09b57824d0>: on_close() takes 1 positional argument but 3 were given\n",
            "ERROR:visdom:on_close() takes 1 positional argument but 3 were given\n"
          ]
        },
        {
          "output_type": "stream",
          "name": "stdout",
          "text": [
            "평가 데이터 정확도 : 89.65908813476562\n",
            "평가 데이터 정확도 : 89.73214721679688\n",
            "평가 데이터 정확도 : 89.8026351928711\n",
            "평가 데이터 정확도 : 89.97844696044922\n",
            "평가 데이터 정확도 : 90.14830780029297\n",
            "평가 데이터 정확도 : 89.89583587646484\n",
            "평가 데이터 정확도 : 89.75409698486328\n",
            "평가 데이터 정확도 : 89.71774291992188\n",
            "평가 데이터 정확도 : 89.68254852294922\n",
            "평가 데이터 정확도 : 89.453125\n",
            "평가 데이터 정확도 : 89.42308044433594\n",
            "평가 데이터 정확도 : 89.3939437866211\n",
            "평가 데이터 정확도 : 89.45895385742188\n",
            "평가 데이터 정확도 : 89.43014526367188\n",
            "평가 데이터 정확도 : 89.40217590332031\n",
            "평가 데이터 정확도 : 89.19642639160156\n",
            "평가 데이터 정확도 : 89.08450317382812\n",
            "평가 데이터 정확도 : 89.23611450195312\n",
            "평가 데이터 정확도 : 89.29794311523438\n",
            "평가 데이터 정확도 : 89.18919372558594\n",
            "평가 데이터 정확도 : 89.16667175292969\n",
            "평가 데이터 정확도 : 88.98026275634766\n",
            "평가 데이터 정확도 : 88.9610366821289\n",
            "평가 데이터 정확도 : 88.78205108642578\n",
            "평가 데이터 정확도 : 88.60759735107422\n",
            "평가 데이터 정확도 : 88.59375\n",
            "평가 데이터 정확도 : 88.50308990478516\n",
            "평가 데이터 정확도 : 88.56707000732422\n",
            "평가 데이터 정확도 : 88.55421447753906\n",
            "평가 데이터 정확도 : 88.54167175292969\n",
            "평가 데이터 정확도 : 88.60294342041016\n",
            "평가 데이터 정확도 : 88.66278839111328\n",
            "평가 데이터 정확도 : 88.79310607910156\n",
            "평가 데이터 정확도 : 88.77841186523438\n",
            "평가 데이터 정확도 : 88.6938247680664\n",
            "평가 데이터 정확도 : 88.68055725097656\n",
            "평가 데이터 정확도 : 88.5988998413086\n",
            "평가 데이터 정확도 : 88.5190200805664\n",
            "평가 데이터 정확도 : 88.64247131347656\n",
            "평가 데이터 정확도 : 88.63031768798828\n",
            "평가 데이터 정확도 : 88.68421173095703\n",
            "평가 데이터 정확도 : 88.60677337646484\n",
            "평가 데이터 정확도 : 88.7242202758789\n",
            "평가 데이터 정확도 : 88.71173095703125\n",
            "평가 데이터 정확도 : 88.57323455810547\n",
            "평가 데이터 정확도 : 88.625\n",
            "평가 데이터 정확도 : 88.67574310302734\n",
            "평가 데이터 정확도 : 88.72549438476562\n",
            "평가 데이터 정확도 : 88.7742691040039\n",
            "평가 데이터 정확도 : 88.88221740722656\n",
            "평가 데이터 정확도 : 88.98809814453125\n",
            "평가 데이터 정확도 : 89.03302001953125\n",
            "평가 데이터 정확도 : 88.96027374267578\n",
            "평가 데이터 정확도 : 88.77314758300781\n",
            "평가 데이터 정확도 : 88.81880187988281\n",
            "평가 데이터 정확도 : 88.75\n",
            "평가 데이터 정확도 : 88.73873901367188\n",
            "평가 데이터 정확도 : 88.78348541259766\n",
            "평가 데이터 정확도 : 88.82743072509766\n",
            "평가 데이터 정확도 : 88.81578826904297\n",
            "평가 데이터 정확도 : 88.85868835449219\n",
            "평가 데이터 정확도 : 88.90086364746094\n",
            "평가 데이터 정확도 : 88.94231414794922\n",
            "평가 데이터 정확도 : 88.93008422851562\n",
            "평가 데이터 정확도 : 88.86554718017578\n",
            "평가 데이터 정확도 : 88.85417175292969\n",
            "평가 데이터 정확도 : 88.84297180175781\n",
            "평가 데이터 정확도 : 88.83196258544922\n",
            "평가 데이터 정확도 : 88.82113647460938\n",
            "평가 데이터 정확도 : 88.76007843017578\n",
            "평가 데이터 정확도 : 88.80000305175781\n",
            "평가 데이터 정확도 : 88.8888931274414\n",
            "평가 데이터 정확도 : 88.8779525756836\n",
            "평가 데이터 정확도 : 88.818359375\n",
            "평가 데이터 정확도 : 88.8565902709961\n",
            "평가 데이터 정확도 : 88.79808044433594\n",
            "평가 데이터 정확도 : 88.88359069824219\n",
            "평가 데이터 정확도 : 88.82575988769531\n",
            "평가 데이터 정확도 : 88.67481231689453\n",
            "평가 데이터 정확도 : 88.61940002441406\n",
            "평가 데이터 정확도 : 88.6111068725586\n",
            "평가 데이터 정확도 : 88.69485473632812\n",
            "평가 데이터 정확도 : 88.59488677978516\n",
            "평가 데이터 정확도 : 88.58695983886719\n",
            "평가 데이터 정확도 : 88.53417205810547\n",
            "평가 데이터 정확도 : 88.52678680419922\n",
            "평가 데이터 정확도 : 88.608154296875\n",
            "평가 데이터 정확도 : 88.64436340332031\n",
            "평가 데이터 정확도 : 88.59265899658203\n",
            "평가 데이터 정확도 : 88.58506774902344\n",
            "평가 데이터 정확도 : 88.62068939208984\n",
            "평가 데이터 정확도 : 88.65582275390625\n",
            "평가 데이터 정확도 : 88.69047546386719\n",
            "평가 데이터 정확도 : 88.72466278076172\n",
            "평가 데이터 정확도 : 88.63255310058594\n",
            "평가 데이터 정확도 : 88.54167175292969\n",
            "평가 데이터 정확도 : 88.5347671508789\n",
            "평가 데이터 정확도 : 88.4868392944336\n",
            "평가 데이터 정확도 : 88.521240234375\n",
            "평가 데이터 정확도 : 88.59577941894531\n",
            "평가 데이터 정확도 : 88.66934967041016\n",
            "평가 데이터 정확도 : 88.7019271850586\n",
            "평가 데이터 정확도 : 88.77388763427734\n",
            "평가 데이터 정확도 : 88.72626495361328\n",
            "평가 데이터 정확도 : 88.79716491699219\n",
            "평가 데이터 정확도 : 88.7890625\n",
            "평가 데이터 정확도 : 88.78105926513672\n",
            "평가 데이터 정확도 : 88.77314758300781\n",
            "평가 데이터 정확도 : 88.72698974609375\n",
            "평가 데이터 정확도 : 88.75762176513672\n",
            "평가 데이터 정확도 : 88.71212005615234\n",
            "평가 데이터 정확도 : 88.66716766357422\n",
            "평가 데이터 정확도 : 88.62275695800781\n",
            "평가 데이터 정확도 : 88.69047546386719\n",
            "평가 데이터 정확도 : 88.72041320800781\n",
            "평가 데이터 정확도 : 88.67647552490234\n",
            "평가 데이터 정확도 : 88.74269104003906\n",
            "평가 데이터 정확도 : 88.73546600341797\n",
            "평가 데이터 정확도 : 88.76445007324219\n",
            "평가 데이터 정확도 : 88.72126770019531\n",
            "평가 데이터 정확도 : 88.78571319580078\n",
            "평가 데이터 정확도 : 88.77841186523438\n",
            "평가 데이터 정확도 : 88.8064956665039\n",
            "평가 데이터 정확도 : 88.79915618896484\n",
            "평가 데이터 정확도 : 88.79190063476562\n",
            "평가 데이터 정확도 : 88.78472137451172\n",
            "평가 데이터 정확도 : 88.84668731689453\n",
            "평가 데이터 정확도 : 88.80494689941406\n",
            "평가 데이터 정확도 : 88.76365661621094\n",
            "평가 데이터 정확도 : 88.8247299194336\n",
            "평가 데이터 정확도 : 88.81756591796875\n",
            "평가 데이터 정확도 : 88.81048583984375\n",
            "평가 데이터 정확도 : 88.80347442626953\n",
            "평가 데이터 정확도 : 88.76329803466797\n",
            "평가 데이터 정확도 : 88.78968048095703\n",
            "평가 데이터 정확도 : 88.84868621826172\n",
            "평가 데이터 정확도 : 88.90706634521484\n",
            "평가 데이터 정확도 : 88.8671875\n",
            "평가 데이터 정확도 : 88.89248657226562\n",
            "평가 데이터 정확도 : 88.91752624511719\n",
            "평가 데이터 정확도 : 88.87820434570312\n",
            "평가 데이터 정확도 : 88.83928680419922\n",
            "평가 데이터 정확도 : 88.83248901367188\n",
            "평가 데이터 정확도 : 88.82575988769531\n",
            "평가 데이터 정확도 : 88.819091796875\n",
            "평가 데이터 정확도 : 88.84375\n",
            "평가 데이터 정확도 : 88.86815643310547\n",
            "평가 데이터 정확도 : 88.8304443359375\n",
            "평가 데이터 정확도 : 88.82389068603516\n",
            "평가 데이터 정확도 : 88.8174057006836\n",
            "평가 데이터 정확도 : 88.84146118164062\n",
            "평가 데이터 정확도 : 88.80461120605469\n",
            "평가 데이터 정확도 : 88.85869598388672\n",
            "평가 데이터 정확도 : 88.85216522216797\n",
            "평가 데이터 정확도 : 88.78588104248047\n",
            "평가 데이터 정확도 : 88.80952453613281\n",
            "평가 데이터 정확도 : 88.8033218383789\n",
            "평가 데이터 정확도 : 88.73821258544922\n",
            "평가 데이터 정확도 : 88.70305633544922\n",
            "평가 데이터 정확도 : 88.66822052001953\n",
            "평가 데이터 정확도 : 88.63372039794922\n",
            "평가 데이터 정확도 : 88.62847137451172\n",
            "평가 데이터 정확도 : 88.68087768554688\n",
            "평가 데이터 정확도 : 88.73279571533203\n",
            "평가 데이터 정확도 : 88.72716522216797\n",
            "평가 데이터 정확도 : 88.77840423583984\n",
            "평가 데이터 정확도 : 88.74434661865234\n",
            "평가 데이터 정확도 : 88.76689147949219\n",
            "평가 데이터 정확도 : 88.70516204833984\n",
            "평가 데이터 정확도 : 88.7276840209961\n",
            "평가 데이터 정확도 : 88.69445037841797\n",
            "평가 데이터 정확도 : 88.68915557861328\n",
            "평가 데이터 정확도 : 88.7114486694336\n",
            "평가 데이터 정확도 : 88.7609634399414\n",
            "평가 데이터 정확도 : 88.75546264648438\n",
            "평가 데이터 정확도 : 88.8043441772461\n",
            "평가 데이터 정확도 : 88.79869842529297\n",
            "평가 데이터 정확도 : 88.8200454711914\n",
            "평가 데이터 정확도 : 88.76072692871094\n",
            "평가 데이터 정확도 : 88.7553482055664\n",
            "평가 데이터 정확도 : 88.75\n",
            "평가 데이터 정확도 : 88.71822357177734\n",
            "평가 데이터 정확도 : 88.68670654296875\n",
            "평가 데이터 정확도 : 88.65546417236328\n",
            "평가 데이터 정확도 : 88.57217407226562\n",
            "평가 데이터 정확도 : 88.51563262939453\n",
            "평가 데이터 정확도 : 88.45954895019531\n",
            "평가 데이터 정확도 : 88.42974853515625\n",
            "평가 데이터 정확도 : 88.4259262084961\n",
            "평가 데이터 정확도 : 88.44773864746094\n",
            "평가 데이터 정확도 : 88.4693832397461\n",
            "평가 데이터 정확도 : 88.4400405883789\n",
            "평가 데이터 정확도 : 88.43623352050781\n",
            "평가 데이터 정확도 : 88.40725708007812\n",
            "평가 데이터 정확도 : 88.4287109375\n",
            "평가 데이터 정확도 : 88.45000457763672\n",
            "평가 데이터 정확도 : 88.39641571044922\n",
            "평가 데이터 정확도 : 88.36805725097656\n",
            "평가 데이터 정확도 : 88.41403198242188\n",
            "평가 데이터 정확도 : 88.4350357055664\n",
            "평가 데이터 정확도 : 88.35784912109375\n",
            "평가 데이터 정확도 : 88.37890625\n",
            "평가 데이터 정확도 : 88.3998031616211\n",
            "평가 데이터 정확도 : 88.42053985595703\n",
            "평가 데이터 정확도 : 88.39285278320312\n",
            "평가 데이터 정확도 : 88.36538696289062\n",
            "평가 데이터 정확도 : 88.36206817626953\n",
            "평가 데이터 정확도 : 88.38263702392578\n",
            "평가 데이터 정확도 : 88.37928009033203\n",
            "평가 데이터 정확도 : 88.32859802246094\n",
            "평가 데이터 정확도 : 88.27830505371094\n",
            "평가 데이터 정확도 : 88.27537536621094\n",
            "평가 데이터 정확도 : 88.24906158447266\n",
            "평가 데이터 정확도 : 88.29290771484375\n",
            "평가 데이터 정확도 : 88.197021484375\n",
            "평가 데이터 정확도 : 88.14814758300781\n",
            "평가 데이터 정확도 : 88.19187927246094\n",
            "평가 데이터 정확도 : 88.21231842041016\n",
            "평가 데이터 정확도 : 88.20970916748047\n",
            "평가 데이터 정확도 : 88.22992706298828\n",
            "평가 데이터 정확도 : 88.25\n",
            "평가 데이터 정확도 : 88.26992797851562\n",
            "평가 데이터 정확도 : 88.26715087890625\n",
            "평가 데이터 정확도 : 88.26438903808594\n",
            "평가 데이터 정확도 : 88.26165008544922\n",
            "평가 데이터 정확도 : 88.28125\n",
            "평가 데이터 정확도 : 88.32295227050781\n",
            "평가 데이터 정확도 : 88.29786682128906\n",
            "평가 데이터 정확도 : 88.29505157470703\n",
            "평가 데이터 정확도 : 88.31426239013672\n",
            "평가 데이터 정확도 : 88.35526275634766\n",
            "평가 데이터 정확도 : 88.3304214477539\n",
            "평가 데이터 정확도 : 88.32752990722656\n",
            "평가 데이터 정확도 : 88.34635162353516\n",
            "평가 데이터 정확도 : 88.34342956542969\n",
            "평가 데이터 정확도 : 88.36206817626953\n",
            "평가 데이터 정확도 : 88.38058471679688\n",
            "평가 데이터 정확도 : 88.37757110595703\n",
            "평가 데이터 정확도 : 88.417236328125\n",
            "평가 데이터 정확도 : 88.43537139892578\n",
            "평가 데이터 정확도 : 88.47457885742188\n",
            "평가 데이터 정확도 : 88.49240112304688\n",
            "평가 데이터 정확도 : 88.46800994873047\n",
            "평가 데이터 정확도 : 88.5067138671875\n",
            "평가 데이터 정확도 : 88.52424621582031\n",
            "평가 데이터 정확도 : 88.54167175292969\n",
            "평가 데이터 정확도 : 88.53820037841797\n",
            "평가 데이터 정확도 : 88.49337768554688\n",
            "평가 데이터 정확도 : 88.46947479248047\n",
            "평가 데이터 정확도 : 88.4868392944336\n",
            "평가 데이터 정확도 : 88.4631118774414\n",
            "평가 데이터 정확도 : 88.45996856689453\n",
            "평가 데이터 정확도 : 88.4771957397461\n",
            "평가 데이터 정확도 : 88.51461029052734\n",
            "평가 데이터 정확도 : 88.53155517578125\n",
            "평가 데이터 정확도 : 88.50806427001953\n",
            "평가 데이터 정확도 : 88.48472595214844\n",
            "평가 데이터 정확도 : 88.48157501220703\n",
            "평가 데이터 정확도 : 88.51837158203125\n",
            "평가 데이터 정확도 : 88.5350341796875\n",
            "평가 데이터 정확도 : 88.55158996582031\n",
            "평가 데이터 정확도 : 88.56803894042969\n",
            "평가 데이터 정확도 : 88.52523803710938\n",
            "평가 데이터 정확도 : 88.50235748291016\n",
            "평가 데이터 정확도 : 88.53839874267578\n",
            "평가 데이터 정확도 : 88.57421875\n",
            "평가 데이터 정확도 : 88.60980987548828\n",
            "평가 데이터 정확도 : 88.58695983886719\n",
            "평가 데이터 정확도 : 88.58358764648438\n",
            "평가 데이터 정확도 : 88.58024597167969\n",
            "평가 데이터 정확도 : 88.61538696289062\n",
            "평가 데이터 정확도 : 88.65030670166016\n",
            "평가 데이터 정확도 : 88.68502044677734\n",
            "평가 데이터 정확도 : 88.7195053100586\n",
            "평가 데이터 정확도 : 88.75379943847656\n",
            "평가 데이터 정확도 : 88.75\n",
            "평가 데이터 정확도 : 88.76510620117188\n",
            "평가 데이터 정확도 : 88.78012084960938\n",
            "평가 데이터 정확도 : 88.81381225585938\n",
            "평가 데이터 정확도 : 88.82859802246094\n",
            "평가 데이터 정확도 : 88.8619384765625\n",
            "평가 데이터 정확도 : 88.89508819580078\n",
            "평가 데이터 정확도 : 88.92803955078125\n",
            "평가 데이터 정확도 : 88.96080017089844\n",
            "평가 데이터 정확도 : 88.97492218017578\n",
            "평가 데이터 정확도 : 89.00735473632812\n",
            "평가 데이터 정확도 : 89.03958892822266\n",
            "평가 데이터 정확도 : 89.05335998535156\n",
            "평가 데이터 정확도 : 89.08528137207031\n",
            "평가 데이터 정확도 : 89.11700439453125\n",
            "평가 데이터 정확도 : 89.14855194091797\n",
            "평가 데이터 정확도 : 89.16184997558594\n",
            "평가 데이터 정확도 : 89.19308471679688\n",
            "평가 데이터 정확도 : 89.13433837890625\n",
            "평가 데이터 정확도 : 89.14756774902344\n",
            "평가 데이터 정확도 : 89.16071319580078\n",
            "평가 데이터 정확도 : 89.1559829711914\n",
            "평가 데이터 정확도 : 89.15128326416016\n",
            "평가 데이터 정확도 : 89.14659881591797\n",
            "평가 데이터 정확도 : 89.10663604736328\n",
            "평가 데이터 정확도 : 89.11971282958984\n",
            "평가 데이터 정확도 : 89.09761047363281\n",
            "평가 데이터 정확도 : 89.11064910888672\n",
            "평가 데이터 정확도 : 89.12360382080078\n",
            "평가 데이터 정확도 : 89.11907958984375\n",
            "평가 데이터 정확도 : 89.13195037841797\n",
            "평가 데이터 정확도 : 89.14473724365234\n",
            "평가 데이터 정확도 : 89.17472839355469\n",
            "평가 데이터 정확도 : 89.18733215332031\n",
            "평가 데이터 정확도 : 89.19986724853516\n",
            "평가 데이터 정확도 : 89.21233367919922\n",
            "평가 데이터 정확도 : 89.15641784667969\n",
            "평가 데이터 정확도 : 89.15190887451172\n",
            "평가 데이터 정확도 : 89.14742279052734\n",
            "평가 데이터 정확도 : 89.12601470947266\n",
            "평가 데이터 정확도 : 89.10472869873047\n",
            "평가 데이터 정확도 : 89.08355712890625\n",
            "평가 데이터 정확도 : 89.07929992675781\n",
            "평가 데이터 정확도 : 89.0750732421875\n",
            "평가 데이터 정확도 : 89.05414581298828\n",
            "평가 데이터 정확도 : 89.04999542236328\n",
            "평가 데이터 정확도 : 89.0625\n",
            "평가 데이터 정확도 : 89.09150695800781\n",
            "평가 데이터 정확도 : 89.07076263427734\n",
            "평가 데이터 정확도 : 89.099609375\n",
            "평가 데이터 정확도 : 89.09539794921875\n",
            "평가 데이터 정확도 : 89.0748062133789\n",
            "평가 데이터 정확도 : 89.0706787109375\n",
            "평가 데이터 정확도 : 89.0992202758789\n",
            "평가 데이터 정확도 : 89.12760925292969\n",
            "평가 데이터 정확도 : 89.13961029052734\n",
            "평가 데이터 정확도 : 89.10297393798828\n",
            "평가 데이터 정확도 : 89.13114166259766\n",
            "평가 데이터 정확도 : 89.15914916992188\n",
            "평가 데이터 정확도 : 89.18701934814453\n",
            "평가 데이터 정확도 : 89.2147445678711\n",
            "평가 데이터 정확도 : 89.24232482910156\n",
            "평가 데이터 정확도 : 89.26976776123047\n",
            "평가 데이터 정확도 : 89.29707336425781\n",
            "평가 데이터 정확도 : 89.32423400878906\n",
            "평가 데이터 정확도 : 89.33544158935547\n",
            "평가 데이터 정확도 : 89.34658813476562\n",
            "평가 데이터 정확도 : 89.37342071533203\n",
            "평가 데이터 정확도 : 89.4001235961914\n",
            "평가 데이터 정확도 : 89.41102600097656\n",
            "평가 데이터 정확도 : 89.390625\n",
            "평가 데이터 정확도 : 89.40149688720703\n",
            "평가 데이터 정확도 : 89.38121795654297\n",
            "평가 데이터 정확도 : 89.39205932617188\n",
            "평가 데이터 정확도 : 89.40284729003906\n",
            "평가 데이터 정확도 : 89.42901611328125\n",
            "평가 데이터 정확도 : 89.43965148925781\n",
            "평가 데이터 정확도 : 89.45024108886719\n",
            "평가 데이터 정확도 : 89.46078491210938\n",
            "평가 데이터 정확도 : 89.48655700683594\n",
            "평가 데이터 정확도 : 89.48170471191406\n",
            "평가 데이터 정확도 : 89.46167755126953\n",
            "평가 데이터 정확도 : 89.4417495727539\n",
            "평가 데이터 정확도 : 89.43704986572266\n",
            "평가 데이터 정확도 : 89.44746398925781\n",
            "평가 데이터 정확도 : 89.45783233642578\n",
            "평가 데이터 정확도 : 89.43810272216797\n",
            "평가 데이터 정확도 : 89.46343231201172\n",
            "평가 데이터 정확도 : 89.48863220214844\n",
            "평가 데이터 정확도 : 89.46897888183594\n",
            "평가 데이터 정확도 : 89.46428680419922\n",
            "평가 데이터 정확도 : 89.47447204589844\n",
            "평가 데이터 정확도 : 89.4549789428711\n",
            "평가 데이터 정확도 : 89.46513366699219\n",
            "평가 데이터 정확도 : 89.47523498535156\n",
            "평가 데이터 정확도 : 89.44116973876953\n",
            "평가 데이터 정확도 : 89.4659652709961\n",
            "평가 데이터 정확도 : 89.49063110351562\n",
            "평가 데이터 정확도 : 89.50057983398438\n",
            "평가 데이터 정확도 : 89.52506256103516\n",
            "평가 데이터 정확도 : 89.53488159179688\n",
            "평가 데이터 정확도 : 89.55915832519531\n",
            "평가 데이터 정확도 : 89.56886291503906\n",
            "평가 데이터 정확도 : 89.5640869140625\n",
            "평가 데이터 정확도 : 89.588134765625\n",
            "평가 데이터 정확도 : 89.61206817626953\n",
            "평가 데이터 정확도 : 89.6358871459961\n",
            "평가 데이터 정확도 : 89.64530181884766\n",
            "평가 데이터 정확도 : 89.6404037475586\n",
            "평가 데이터 정확도 : 89.66400909423828\n",
            "평가 데이터 정확도 : 89.67329406738281\n",
            "평가 데이터 정확도 : 89.69671630859375\n",
            "평가 데이터 정확도 : 89.72002410888672\n",
            "평가 데이터 정확도 : 89.74323272705078\n",
            "평가 데이터 정확도 : 89.75225067138672\n",
            "평가 데이터 정확도 : 89.77528381347656\n",
            "평가 데이터 정확도 : 89.77018737792969\n",
            "평가 데이터 정확도 : 89.7930679321289\n",
            "평가 데이터 정확도 : 89.8019027709961\n",
            "평가 데이터 정확도 : 89.82461547851562\n",
            "평가 데이터 정확도 : 89.83333587646484\n",
            "평가 데이터 정확도 : 89.8420181274414\n",
            "평가 데이터 정확도 : 89.85066223144531\n",
            "평가 데이터 정확도 : 89.84547424316406\n",
            "평가 데이터 정확도 : 89.8265380859375\n",
            "평가 데이터 정확도 : 89.8214340209961\n",
            "평가 데이터 정확도 : 89.84375\n",
            "평가 데이터 정확도 : 89.852294921875\n",
            "평가 데이터 정확도 : 89.87445831298828\n",
            "평가 데이터 정확도 : 89.88289642333984\n",
            "평가 데이터 정확도 : 89.9048843383789\n",
            "평가 데이터 정확도 : 89.89967346191406\n",
            "평가 데이터 정확도 : 89.90800476074219\n",
            "평가 데이터 정확도 : 89.92980194091797\n",
            "평가 데이터 정확도 : 89.95150756835938\n",
            "평가 데이터 정확도 : 89.93280029296875\n",
            "평가 데이터 정확도 : 89.92757415771484\n",
            "평가 데이터 정확도 : 89.93576049804688\n",
            "평가 데이터 정확도 : 89.94391632080078\n",
            "평가 데이터 정확도 : 89.92537689208984\n",
            "평가 데이터 정확도 : 89.93350982666016\n",
            "평가 데이터 정확도 : 89.94161987304688\n",
            "평가 데이터 정확도 : 89.90995788574219\n",
            "평가 데이터 정확도 : 89.91807556152344\n",
            "평가 데이터 정확도 : 89.93933868408203\n",
            "평가 데이터 정확도 : 89.96052551269531\n",
            "평가 데이터 정확도 : 89.98162078857422\n",
            "평가 데이터 정확도 : 90.00261688232422\n",
            "평가 데이터 정확도 : 89.99738311767578\n",
            "평가 데이터 정확도 : 90.01827239990234\n",
            "평가 데이터 정확도 : 90.02604675292969\n",
            "평가 데이터 정확도 : 90.0467758178711\n",
            "평가 데이터 정확도 : 90.06742858886719\n",
            "평가 데이터 정확도 : 90.0621109008789\n",
            "평가 데이터 정확도 : 90.0826416015625\n",
            "평가 데이터 정확도 : 90.10309600830078\n",
            "평가 데이터 정확도 : 90.110595703125\n",
            "평가 데이터 정확도 : 90.11807250976562\n",
            "평가 데이터 정확도 : 90.11270141601562\n",
            "평가 데이터 정확도 : 90.1201400756836\n",
            "평가 데이터 정확도 : 90.14030456542969\n",
            "평가 데이터 정확도 : 90.12220764160156\n",
            "평가 데이터 정확도 : 90.09146118164062\n",
            "평가 데이터 정확도 : 90.0862045288086\n",
            "평가 데이터 정확도 : 90.0936279296875\n",
            "평가 데이터 정확도 : 90.08838653564453\n",
            "평가 데이터 정확도 : 90.08316040039062\n",
            "평가 데이터 정확도 : 90.09053802490234\n",
            "평가 데이터 정확도 : 90.11043548583984\n",
            "평가 데이터 정확도 : 90.13026428222656\n",
            "평가 데이터 정확도 : 90.1500015258789\n",
            "평가 데이터 정확도 : 90.16966247558594\n",
            "평가 데이터 정확도 : 90.17679595947266\n",
            "평가 데이터 정확도 : 90.18389129638672\n",
            "평가 데이터 정확도 : 90.19097900390625\n",
            "평가 데이터 정확도 : 90.1980209350586\n",
            "평가 데이터 정확도 : 90.16798400878906\n",
            "평가 데이터 정확도 : 90.175048828125\n",
            "평가 데이터 정확도 : 90.18208312988281\n",
            "평가 데이터 정확도 : 90.20137786865234\n",
            "평가 데이터 정확도 : 90.22059631347656\n",
            "평가 데이터 정확도 : 90.22749328613281\n",
            "평가 데이터 정확도 : 90.24658203125\n",
            "평가 데이터 정확도 : 90.24122619628906\n",
            "평가 데이터 정확도 : 90.26021575927734\n",
            "평가 데이터 정확도 : 90.27912902832031\n",
            "평가 데이터 정확도 : 90.27374267578125\n",
            "평가 데이터 정확도 : 90.29255676269531\n",
            "평가 데이터 정확도 : 90.28716278076172\n",
            "평가 데이터 정확도 : 90.28179168701172\n",
            "평가 데이터 정확도 : 90.28845977783203\n",
            "평가 데이터 정확도 : 90.29510498046875\n",
            "평가 데이터 정확도 : 90.30171966552734\n",
            "평가 데이터 정확도 : 90.30831909179688\n",
            "평가 데이터 정확도 : 90.32681274414062\n",
            "평가 데이터 정확도 : 90.3452377319336\n",
            "평가 데이터 정확도 : 90.33982849121094\n",
            "평가 데이터 정확도 : 90.35816192626953\n",
            "평가 데이터 정확도 : 90.36458587646484\n",
            "평가 데이터 정확도 : 90.37098693847656\n",
            "평가 데이터 정확도 : 90.36557006835938\n",
            "평가 데이터 정확도 : 90.38370513916016\n",
            "평가 데이터 정확도 : 90.40178680419922\n",
            "평가 데이터 정확도 : 90.38461303710938\n",
            "평가 데이터 정확도 : 90.40262603759766\n",
            "평가 데이터 정확도 : 90.42056274414062\n",
            "평가 데이터 정확도 : 90.43843078613281\n",
            "평가 데이터 정확도 : 90.45623779296875\n",
            "평가 데이터 정확도 : 90.4739761352539\n",
            "평가 데이터 정확도 : 90.48005676269531\n",
            "평가 데이터 정확도 : 90.47453308105469\n",
            "평가 데이터 정확도 : 90.49214172363281\n",
            "평가 데이터 정확도 : 90.50968933105469\n",
            "평가 데이터 정확도 : 90.52716827392578\n",
            "평가 데이터 정확도 : 90.5445785522461\n",
            "평가 데이터 정확도 : 90.56192779541016\n",
            "평가 데이터 정확도 : 90.57921600341797\n",
            "평가 데이터 정확도 : 90.596435546875\n",
            "평가 데이터 정확도 : 90.60218811035156\n",
            "평가 데이터 정확도 : 90.61930847167969\n",
            "평가 데이터 정확도 : 90.63636779785156\n",
            "평가 데이터 정확도 : 90.65335845947266\n",
            "평가 데이터 정확도 : 90.6702880859375\n",
            "평가 데이터 정확도 : 90.68716430664062\n",
            "평가 데이터 정확도 : 90.70397186279297\n",
            "평가 데이터 정확도 : 90.7207260131836\n",
            "평가 데이터 정확도 : 90.73741149902344\n",
            "평가 데이터 정확도 : 90.75404357910156\n",
            "평가 데이터 정확도 : 90.7706069946289\n",
            "평가 데이터 정확도 : 90.78711700439453\n",
            "평가 데이터 정확도 : 90.80357360839844\n",
            "평가 데이터 정확도 : 90.81996154785156\n",
            "평가 데이터 정확도 : 90.83629608154297\n",
            "평가 데이터 정확도 : 90.84147644042969\n",
            "평가 데이터 정확도 : 90.79122161865234\n",
            "평가 데이터 정확도 : 90.76327514648438\n",
            "평가 데이터 정확도 : 90.75750732421875\n",
            "평가 데이터 정확도 : 90.7738037109375\n",
            "평가 데이터 정확도 : 90.79005432128906\n",
            "평가 데이터 정확도 : 90.79525756835938\n",
            "평가 데이터 정확도 : 90.8004379272461\n",
            "평가 데이터 정확도 : 90.8165512084961\n",
            "평가 데이터 정확도 : 90.8216781616211\n",
            "평가 데이터 정확도 : 90.83769989013672\n",
            "평가 데이터 정확도 : 90.8427734375\n",
            "평가 데이터 정확도 : 90.85869598388672\n",
            "평가 데이터 정확도 : 90.8420181274414\n",
            "평가 데이터 정확도 : 90.8578872680664\n",
            "평가 데이터 정확도 : 90.87370300292969\n",
            "평가 데이터 정확도 : 90.88946533203125\n",
            "평가 데이터 정확도 : 90.9051742553711\n",
            "평가 데이터 정확도 : 90.91006469726562\n",
            "평가 데이터 정확도 : 90.91494750976562\n",
            "평가 데이터 정확도 : 90.90909576416016\n",
            "평가 데이터 정확도 : 90.9246597290039\n",
            "평가 데이터 정확도 : 90.94017028808594\n",
            "평가 데이터 정확도 : 90.95562744140625\n",
            "평가 데이터 정확도 : 90.97103881835938\n",
            "평가 데이터 정확도 : 90.98638916015625\n",
            "평가 데이터 정확도 : 91.00170135498047\n",
            "평가 데이터 정확도 : 90.99575805664062\n",
            "평가 데이터 정확도 : 91.00041961669922\n",
            "평가 데이터 정확도 : 91.00507354736328\n",
            "평가 데이터 정확도 : 91.0202407836914\n",
            "평가 데이터 정확도 : 91.02482604980469\n",
            "평가 데이터 정확도 : 91.0399169921875\n",
            "평가 데이터 정확도 : 91.01300048828125\n",
            "평가 데이터 정확도 : 91.01758575439453\n",
            "평가 데이터 정확도 : 91.02215576171875\n",
            "평가 데이터 정확도 : 91.03713989257812\n",
            "평가 데이터 정확도 : 91.03125\n",
            "평가 데이터 정확도 : 91.03577423095703\n",
            "평가 데이터 정확도 : 91.040283203125\n",
            "평가 데이터 정확도 : 91.0240478515625\n",
            "평가 데이터 정확도 : 91.03890991210938\n",
            "평가 데이터 정확도 : 91.01239776611328\n",
            "평가 데이터 정확도 : 91.01691436767578\n",
            "평가 데이터 정확도 : 91.01111602783203\n",
            "평가 데이터 정확도 : 90.99506378173828\n",
            "평가 데이터 정확도 : 90.97906494140625\n",
            "평가 데이터 정확도 : 90.94261932373047\n",
            "평가 데이터 정확도 : 90.9369888305664\n",
            "평가 데이터 정확도 : 90.92115783691406\n",
            "평가 데이터 정확도 : 90.92577362060547\n",
            "평가 데이터 정확도 : 90.9201889038086\n",
            "평가 데이터 정확도 : 90.91463470458984\n",
            "평가 데이터 정확도 : 90.91923522949219\n",
            "평가 데이터 정확도 : 90.8934326171875\n",
            "평가 데이터 정확도 : 90.89806365966797\n",
            "평가 데이터 정확도 : 90.88247680664062\n",
            "평가 데이터 정확도 : 90.87701416015625\n",
            "평가 데이터 정확도 : 90.87158203125\n",
            "평가 데이터 정확도 : 90.85610961914062\n",
            "평가 데이터 정확도 : 90.86075592041016\n",
            "평가 데이터 정확도 : 90.84535217285156\n",
            "평가 데이터 정확도 : 90.86000061035156\n"
          ]
        }
      ]
    }
  ]
}