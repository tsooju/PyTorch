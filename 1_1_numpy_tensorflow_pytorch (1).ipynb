{
  "nbformat": 4,
  "nbformat_minor": 0,
  "metadata": {
    "colab": {
      "provenance": [],
      "collapsed_sections": [],
      "toc_visible": true
    },
    "kernelspec": {
      "name": "python3",
      "display_name": "Python 3"
    },
    "language_info": {
      "name": "python"
    },
    "accelerator": "GPU",
    "gpuClass": "standard"
  },
  "cells": [
    {
      "cell_type": "markdown",
      "source": [
        "**1_1_numpy_tensorflow_pytorch.ipynb**\n",
        "\n",
        "\n"
      ],
      "metadata": {
        "id": "DWk_7xKokPlv"
      }
    },
    {
      "cell_type": "code",
      "source": [
        "# comment를 직접 달 수 있다. \n",
        "# Pytorch 설치 전 : 런타임 메뉴 > 런타임 유형 변경 > GPU 지정\n",
        "# Pytorch 설치 (매 세션마다 설치 필요함.)\n",
        "# 설치하기 : !pip3 install torch 라고 한다.\n",
        "!pip3 install torch\n",
        "!pip3 install torchvision\n"
      ],
      "metadata": {
        "colab": {
          "base_uri": "https://localhost:8080/"
        },
        "id": "jEkE_iowk1TG",
        "outputId": "4db58c7a-75ac-4fa5-86c9-d3d8d3b38ff3"
      },
      "execution_count": null,
      "outputs": [
        {
          "output_type": "stream",
          "name": "stdout",
          "text": [
            "Looking in indexes: https://pypi.org/simple, https://us-python.pkg.dev/colab-wheels/public/simple/\n",
            "Requirement already satisfied: torch in /usr/local/lib/python3.7/dist-packages (1.12.1+cu113)\n",
            "Requirement already satisfied: typing-extensions in /usr/local/lib/python3.7/dist-packages (from torch) (4.1.1)\n",
            "Looking in indexes: https://pypi.org/simple, https://us-python.pkg.dev/colab-wheels/public/simple/\n",
            "Requirement already satisfied: torchvision in /usr/local/lib/python3.7/dist-packages (0.13.1+cu113)\n",
            "Requirement already satisfied: requests in /usr/local/lib/python3.7/dist-packages (from torchvision) (2.23.0)\n",
            "Requirement already satisfied: pillow!=8.3.*,>=5.3.0 in /usr/local/lib/python3.7/dist-packages (from torchvision) (7.1.2)\n",
            "Requirement already satisfied: torch==1.12.1 in /usr/local/lib/python3.7/dist-packages (from torchvision) (1.12.1+cu113)\n",
            "Requirement already satisfied: numpy in /usr/local/lib/python3.7/dist-packages (from torchvision) (1.21.6)\n",
            "Requirement already satisfied: typing-extensions in /usr/local/lib/python3.7/dist-packages (from torchvision) (4.1.1)\n",
            "Requirement already satisfied: idna<3,>=2.5 in /usr/local/lib/python3.7/dist-packages (from requests->torchvision) (2.10)\n",
            "Requirement already satisfied: urllib3!=1.25.0,!=1.25.1,<1.26,>=1.21.1 in /usr/local/lib/python3.7/dist-packages (from requests->torchvision) (1.24.3)\n",
            "Requirement already satisfied: certifi>=2017.4.17 in /usr/local/lib/python3.7/dist-packages (from requests->torchvision) (2022.9.24)\n",
            "Requirement already satisfied: chardet<4,>=3.0.2 in /usr/local/lib/python3.7/dist-packages (from requests->torchvision) (3.0.4)\n"
          ]
        }
      ]
    },
    {
      "cell_type": "markdown",
      "source": [
        "**패키지 비교**\n",
        "- Numpy vs Tensorflow vs PyTorch\n",
        "- output = x * y + z \n"
      ],
      "metadata": {
        "id": "O9Omkodws32N"
      }
    },
    {
      "cell_type": "code",
      "source": [
        "import numpy as np\n",
        "from datetime import datetime\n",
        "\n",
        "start = datetime.now()\n",
        "\n",
        "np.random.seed(0)  # seed(0) 함수는 random 값을 같은 값으로 고정시킴\n",
        "\n",
        "N, D = 3, 4\n",
        "\n",
        "x = np.random.randn(N, D) # 3행 4 열 배열에 0 ~ 1 사이의 실수형 랜덤값을 체움\n",
        "y = np.random.randn(N, D)\n",
        "z = np.random.randn(N, D)\n",
        "\n",
        "a = x * y\n",
        "b = a + z\n",
        "c = np.sum(b)\n",
        "\n",
        "grad_c = 1.0\n",
        "grad_b = grad_c * np.ones((N, D))\n",
        "grad_a = grad_b.copy()\n",
        "grad_z = grad_b.copy()\n",
        "grad_y = grad_a * y \n",
        "grad_x = grad_a * x\n",
        "\n",
        "print(grad_x)\n",
        "print(grad_y)\n",
        "print(grad_z)\n",
        "\n",
        "print(\"연산 처리 시간 : \", datetime.now() - start)"
      ],
      "metadata": {
        "colab": {
          "base_uri": "https://localhost:8080/"
        },
        "id": "Mt3-zEcktN1l",
        "outputId": "13934daa-253d-4fd0-b1b6-d33ea9371547"
      },
      "execution_count": null,
      "outputs": [
        {
          "output_type": "stream",
          "name": "stdout",
          "text": [
            "[[ 1.76405235  0.40015721  0.97873798  2.2408932 ]\n",
            " [ 1.86755799 -0.97727788  0.95008842 -0.15135721]\n",
            " [-0.10321885  0.4105985   0.14404357  1.45427351]]\n",
            "[[ 0.76103773  0.12167502  0.44386323  0.33367433]\n",
            " [ 1.49407907 -0.20515826  0.3130677  -0.85409574]\n",
            " [-2.55298982  0.6536186   0.8644362  -0.74216502]]\n",
            "[[1. 1. 1. 1.]\n",
            " [1. 1. 1. 1.]\n",
            " [1. 1. 1. 1.]]\n",
            "연산 처리 시간 :  0:00:00.001987\n"
          ]
        }
      ]
    },
    {
      "cell_type": "markdown",
      "source": [
        "Tensorflow 는 graph 로 연산을 나타내는 시스템이며, 연산하려면 Session 상에서 실행되어야 한다. \n",
        "Session은 graph(연산을 구성하는 노드) 작업을 cpu 나 gpu 같은 device에 배정하고 실행을 위한 메소드들을 제공한다."
      ],
      "metadata": {
        "id": "GiIytsPi4Tky"
      }
    },
    {
      "cell_type": "code",
      "source": [
        "import tensorflow as tf\n",
        "import numpy as np\n",
        "from datetime import datetime\n",
        "\n",
        "# tf.placeholder() 함수 AttributeError 발생시 해결 방법\n",
        "# tensorflow 2.0 에서는 사용 못 함\n",
        "import tensorflow.compat.v1 as tf\n",
        "tf.disable_v2_behavior()\n",
        "# ===============================\n",
        "\n",
        "start = datetime.now()\n",
        "\n",
        "# 실행 동작을 미리 정의해 놓음\n",
        "with tf.device('/gpu:0'): # 실행시 gpu 0 사용을 지정함.\n",
        "  x = tf.placeholder(tf.float32) # 나중에 값을 넣을 공간을 만듦\n",
        "  y = tf.placeholder(tf.float32) \n",
        "  z = tf.placeholder(tf.float32)\n",
        "\n",
        "  a = x * y # x[0][0] 값 * y[0][0], x[0][1] 값 * y[0][1],,..등 이어간다. \n",
        "  b = a * z \n",
        "  c = tf.reduce_sum(b) # 배열의 모든 값들의 합계를 구함\n",
        "\n",
        "grad_x, grad_y, grad_z = tf.gradients(c, [x, y, z])\n",
        "\n",
        "# 준비된 공간의 값을 채우는 설정 \n",
        "with tf.Session() as sess:\n",
        "  values = {\n",
        "      x: np.random.randn(N, D), \n",
        "      y: np.random.randn(N, D), \n",
        "      z: np.random.randn(N, D)\n",
        "  }\n",
        "\n",
        "  out = sess.run([c, grad_x, grad_y, grad_z], feed_dict = values)\n",
        "  c_val, grad_x_val, grad_y_val, grad_z_val = out\n",
        "\n",
        "print(grad_x_val)\n",
        "print(grad_y_val)\n",
        "print(grad_z_val)\n",
        "\n",
        "print(\"연산 처리 시간 : \", datetime.now() - start)\n"
      ],
      "metadata": {
        "colab": {
          "base_uri": "https://localhost:8080/"
        },
        "id": "GVxmDnIKwcTE",
        "outputId": "748117fe-38a4-484e-b6ed-02a570f31d87"
      },
      "execution_count": null,
      "outputs": [
        {
          "output_type": "stream",
          "name": "stdout",
          "text": [
            "[[ 1.0852824   0.07649145  0.7281453  -0.66790307]\n",
            " [-0.09063018  0.47435552  0.04594262  0.1982244 ]\n",
            " [-0.06035097  0.01571202 -0.46247828 -0.04678741]]\n",
            "[[-0.82732177 -0.43231946  0.31495336  0.52185994]\n",
            " [-0.18604071  0.57053614  2.781559    0.9027842 ]\n",
            " [ 0.4624066  -0.02275594 -0.91340125  0.10028297]]\n",
            "[[-1.9855634  -0.2557946   0.3468382  -0.1169617 ]\n",
            " [ 0.53560627  1.6765189   0.0480865   0.8355793 ]\n",
            " [-0.03390065 -0.13250516  0.79467577 -0.28202778]]\n",
            "연산 처리 시간 :  0:00:02.905485\n"
          ]
        }
      ]
    },
    {
      "cell_type": "code",
      "source": [
        "import torch\n",
        "from torch.autograd import Variable\n",
        "from datetime import datetime\n",
        "\n",
        "start = datetime.now()\n",
        "\n",
        "N, D = 3, 4\n",
        "\n",
        "# 자동 미분 계산 함수 : autograd.Variable\n",
        "x = Variable(torch.randn(N, D).cuda(), requires_grad=True)\n",
        "y = Variable(torch.randn(N, D).cuda(), requires_grad=True)\n",
        "z = Variable(torch.randn(N, D).cuda(), requires_grad=True)\n",
        "\n",
        "a = x * y\n",
        "b = a * z\n",
        "c = torch.sum(b)\n",
        "\n",
        "# gradient(경사도) 자동 계산 수행\n",
        "# 기우기(gradient)기ㅏ 1.0이라고 가정하고 최종 값이 c 에서 \n",
        "# backward를 통해서 역전파를 해 준다. \n",
        "c.backward(gradient=torch.tensor(1, dtype=torch.float))\n",
        "\n",
        "print(x.grad)\n",
        "print(y.grad)\n",
        "print(z.grad)\n",
        "\n",
        "print(\"연산 처리 시간 : \", datetime.now() - start)\n",
        "\n"
      ],
      "metadata": {
        "colab": {
          "base_uri": "https://localhost:8080/"
        },
        "id": "0QuTh6xC6OuZ",
        "outputId": "296d1f82-e3f7-4e21-9eaf-36baad9af0ee"
      },
      "execution_count": null,
      "outputs": [
        {
          "output_type": "stream",
          "name": "stdout",
          "text": [
            "tensor([[ 1.1904, -0.0545, -1.0410, -0.4978],\n",
            "        [ 1.2901, -0.0502,  0.4260, -0.3523],\n",
            "        [-0.0348, -0.4158, -0.5879,  0.3134]], device='cuda:0')\n",
            "tensor([[ 0.1396, -0.0830, -0.7127, -0.5635],\n",
            "        [-2.4382, -0.1508,  0.4417,  0.4095],\n",
            "        [-0.3443, -0.0527, -0.4310, -0.2029]], device='cuda:0')\n",
            "tensor([[ 0.2634,  0.0053,  1.1129,  0.8758],\n",
            "        [-1.5962,  1.2140,  1.6388, -0.3028],\n",
            "        [ 0.7414,  0.0376,  5.0417, -0.2378]], device='cuda:0')\n",
            "연산 처리 시간 :  0:00:00.105026\n"
          ]
        }
      ]
    }
  ]
}